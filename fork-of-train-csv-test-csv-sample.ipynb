{
 "cells": [
  {
   "cell_type": "code",
   "execution_count": 1,
   "id": "4860a543",
   "metadata": {
    "execution": {
     "iopub.execute_input": "2022-03-02T16:06:00.703707Z",
     "iopub.status.busy": "2022-03-02T16:06:00.702727Z",
     "iopub.status.idle": "2022-03-02T16:06:02.123788Z",
     "shell.execute_reply": "2022-03-02T16:06:02.123046Z",
     "shell.execute_reply.started": "2022-02-20T06:04:16.815856Z"
    },
    "papermill": {
     "duration": 1.491016,
     "end_time": "2022-03-02T16:06:02.123951",
     "exception": false,
     "start_time": "2022-03-02T16:06:00.632935",
     "status": "completed"
    },
    "tags": []
   },
   "outputs": [],
   "source": [
    "import pandas as pd\n",
    "import numpy as np\n",
    "from matplotlib import pyplot as plt\n",
    "import seaborn as sns \n",
    "import matplotlib\n",
    "%matplotlib inline\n",
    "from collections import defaultdict\n",
    "from sklearn.model_selection import train_test_split, StratifiedShuffleSplit\n",
    "import xgboost as xgb\n"
   ]
  },
  {
   "cell_type": "code",
   "execution_count": 2,
   "id": "cf4bb7af",
   "metadata": {
    "execution": {
     "iopub.execute_input": "2022-03-02T16:06:02.250735Z",
     "iopub.status.busy": "2022-03-02T16:06:02.250074Z",
     "iopub.status.idle": "2022-03-02T16:06:12.337374Z",
     "shell.execute_reply": "2022-03-02T16:06:12.336825Z",
     "shell.execute_reply.started": "2022-02-20T06:04:17.960616Z"
    },
    "papermill": {
     "duration": 10.151241,
     "end_time": "2022-03-02T16:06:12.337532",
     "exception": false,
     "start_time": "2022-03-02T16:06:02.186291",
     "status": "completed"
    },
    "tags": []
   },
   "outputs": [],
   "source": [
    "train=pd.read_csv('../input/train-test-sample-submission/train.csv')\n",
    "test= pd.read_csv('../input/train-test-sample-submission/test.csv')"
   ]
  },
  {
   "cell_type": "code",
   "execution_count": 3,
   "id": "aa06c97a",
   "metadata": {
    "execution": {
     "iopub.execute_input": "2022-03-02T16:06:12.470010Z",
     "iopub.status.busy": "2022-03-02T16:06:12.469310Z",
     "iopub.status.idle": "2022-03-02T16:06:12.473570Z",
     "shell.execute_reply": "2022-03-02T16:06:12.472851Z",
     "shell.execute_reply.started": "2022-02-20T06:04:27.017627Z"
    },
    "papermill": {
     "duration": 0.071096,
     "end_time": "2022-03-02T16:06:12.473845",
     "exception": false,
     "start_time": "2022-03-02T16:06:12.402749",
     "status": "completed"
    },
    "tags": []
   },
   "outputs": [],
   "source": [
    "def display_all(data):\n",
    "    with pd.option_context('display.max_rows', 1000):\n",
    "        with pd.option_context('display.max_columns', 1000):\n",
    "            return display(data)"
   ]
  },
  {
   "cell_type": "code",
   "execution_count": 4,
   "id": "4275cb13",
   "metadata": {
    "execution": {
     "iopub.execute_input": "2022-03-02T16:06:12.603037Z",
     "iopub.status.busy": "2022-03-02T16:06:12.602372Z",
     "iopub.status.idle": "2022-03-02T16:06:12.607552Z",
     "shell.execute_reply": "2022-03-02T16:06:12.608048Z",
     "shell.execute_reply.started": "2022-02-20T06:04:27.025666Z"
    },
    "papermill": {
     "duration": 0.070008,
     "end_time": "2022-03-02T16:06:12.608251",
     "exception": false,
     "start_time": "2022-03-02T16:06:12.538243",
     "status": "completed"
    },
    "tags": []
   },
   "outputs": [
    {
     "name": "stdout",
     "output_type": "stream",
     "text": [
      "(595212, 59)\n",
      "(892816, 58)\n"
     ]
    }
   ],
   "source": [
    "print(train.shape)\n",
    "print(test.shape)"
   ]
  },
  {
   "cell_type": "code",
   "execution_count": 5,
   "id": "f261d5c1",
   "metadata": {
    "execution": {
     "iopub.execute_input": "2022-03-02T16:06:12.736633Z",
     "iopub.status.busy": "2022-03-02T16:06:12.735766Z",
     "iopub.status.idle": "2022-03-02T16:06:12.740514Z",
     "shell.execute_reply": "2022-03-02T16:06:12.739806Z",
     "shell.execute_reply.started": "2022-02-20T06:04:27.036121Z"
    },
    "papermill": {
     "duration": 0.069228,
     "end_time": "2022-03-02T16:06:12.740686",
     "exception": false,
     "start_time": "2022-03-02T16:06:12.671458",
     "status": "completed"
    },
    "tags": []
   },
   "outputs": [],
   "source": [
    "# Target\n"
   ]
  },
  {
   "cell_type": "code",
   "execution_count": 6,
   "id": "43d87b83",
   "metadata": {
    "execution": {
     "iopub.execute_input": "2022-03-02T16:06:12.880479Z",
     "iopub.status.busy": "2022-03-02T16:06:12.879748Z",
     "iopub.status.idle": "2022-03-02T16:06:12.891747Z",
     "shell.execute_reply": "2022-03-02T16:06:12.892519Z",
     "shell.execute_reply.started": "2022-02-20T06:04:27.044354Z"
    },
    "papermill": {
     "duration": 0.086157,
     "end_time": "2022-03-02T16:06:12.892756",
     "exception": false,
     "start_time": "2022-03-02T16:06:12.806599",
     "status": "completed"
    },
    "tags": []
   },
   "outputs": [
    {
     "name": "stdout",
     "output_type": "stream",
     "text": [
      "0    0.963552\n",
      "1    0.036448\n",
      "Name: target, dtype: float64\n"
     ]
    }
   ],
   "source": [
    "print(train.target.value_counts(normalize=True))"
   ]
  },
  {
   "cell_type": "code",
   "execution_count": 7,
   "id": "e6bbda55",
   "metadata": {
    "execution": {
     "iopub.execute_input": "2022-03-02T16:06:13.023689Z",
     "iopub.status.busy": "2022-03-02T16:06:13.022652Z",
     "iopub.status.idle": "2022-03-02T16:06:13.062287Z",
     "shell.execute_reply": "2022-03-02T16:06:13.062873Z",
     "shell.execute_reply.started": "2022-02-20T06:04:27.063565Z"
    },
    "papermill": {
     "duration": 0.107266,
     "end_time": "2022-03-02T16:06:13.063073",
     "exception": false,
     "start_time": "2022-03-02T16:06:12.955807",
     "status": "completed"
    },
    "tags": []
   },
   "outputs": [
    {
     "data": {
      "text/html": [
       "<div>\n",
       "<style scoped>\n",
       "    .dataframe tbody tr th:only-of-type {\n",
       "        vertical-align: middle;\n",
       "    }\n",
       "\n",
       "    .dataframe tbody tr th {\n",
       "        vertical-align: top;\n",
       "    }\n",
       "\n",
       "    .dataframe thead th {\n",
       "        text-align: right;\n",
       "    }\n",
       "</style>\n",
       "<table border=\"1\" class=\"dataframe\">\n",
       "  <thead>\n",
       "    <tr style=\"text-align: right;\">\n",
       "      <th></th>\n",
       "      <th>id</th>\n",
       "      <th>target</th>\n",
       "      <th>ps_ind_01</th>\n",
       "      <th>ps_ind_02_cat</th>\n",
       "      <th>ps_ind_03</th>\n",
       "      <th>ps_ind_04_cat</th>\n",
       "      <th>ps_ind_05_cat</th>\n",
       "      <th>ps_ind_06_bin</th>\n",
       "      <th>ps_ind_07_bin</th>\n",
       "      <th>ps_ind_08_bin</th>\n",
       "      <th>ps_ind_09_bin</th>\n",
       "      <th>ps_ind_10_bin</th>\n",
       "      <th>ps_ind_11_bin</th>\n",
       "      <th>ps_ind_12_bin</th>\n",
       "      <th>ps_ind_13_bin</th>\n",
       "      <th>ps_ind_14</th>\n",
       "      <th>ps_ind_15</th>\n",
       "      <th>ps_ind_16_bin</th>\n",
       "      <th>ps_ind_17_bin</th>\n",
       "      <th>ps_ind_18_bin</th>\n",
       "      <th>ps_reg_01</th>\n",
       "      <th>ps_reg_02</th>\n",
       "      <th>ps_reg_03</th>\n",
       "      <th>ps_car_01_cat</th>\n",
       "      <th>ps_car_02_cat</th>\n",
       "      <th>ps_car_03_cat</th>\n",
       "      <th>ps_car_04_cat</th>\n",
       "      <th>ps_car_05_cat</th>\n",
       "      <th>ps_car_06_cat</th>\n",
       "      <th>ps_car_07_cat</th>\n",
       "      <th>ps_car_08_cat</th>\n",
       "      <th>ps_car_09_cat</th>\n",
       "      <th>ps_car_10_cat</th>\n",
       "      <th>ps_car_11_cat</th>\n",
       "      <th>ps_car_11</th>\n",
       "      <th>ps_car_12</th>\n",
       "      <th>ps_car_13</th>\n",
       "      <th>ps_car_14</th>\n",
       "      <th>ps_car_15</th>\n",
       "      <th>ps_calc_01</th>\n",
       "      <th>ps_calc_02</th>\n",
       "      <th>ps_calc_03</th>\n",
       "      <th>ps_calc_04</th>\n",
       "      <th>ps_calc_05</th>\n",
       "      <th>ps_calc_06</th>\n",
       "      <th>ps_calc_07</th>\n",
       "      <th>ps_calc_08</th>\n",
       "      <th>ps_calc_09</th>\n",
       "      <th>ps_calc_10</th>\n",
       "      <th>ps_calc_11</th>\n",
       "      <th>ps_calc_12</th>\n",
       "      <th>ps_calc_13</th>\n",
       "      <th>ps_calc_14</th>\n",
       "      <th>ps_calc_15_bin</th>\n",
       "      <th>ps_calc_16_bin</th>\n",
       "      <th>ps_calc_17_bin</th>\n",
       "      <th>ps_calc_18_bin</th>\n",
       "      <th>ps_calc_19_bin</th>\n",
       "      <th>ps_calc_20_bin</th>\n",
       "    </tr>\n",
       "  </thead>\n",
       "  <tbody>\n",
       "    <tr>\n",
       "      <th>0</th>\n",
       "      <td>7</td>\n",
       "      <td>0</td>\n",
       "      <td>2</td>\n",
       "      <td>2</td>\n",
       "      <td>5</td>\n",
       "      <td>1</td>\n",
       "      <td>0</td>\n",
       "      <td>0</td>\n",
       "      <td>1</td>\n",
       "      <td>0</td>\n",
       "      <td>0</td>\n",
       "      <td>0</td>\n",
       "      <td>0</td>\n",
       "      <td>0</td>\n",
       "      <td>0</td>\n",
       "      <td>0</td>\n",
       "      <td>11</td>\n",
       "      <td>0</td>\n",
       "      <td>1</td>\n",
       "      <td>0</td>\n",
       "      <td>0.7</td>\n",
       "      <td>0.2</td>\n",
       "      <td>0.718070</td>\n",
       "      <td>10</td>\n",
       "      <td>1</td>\n",
       "      <td>-1</td>\n",
       "      <td>0</td>\n",
       "      <td>1</td>\n",
       "      <td>4</td>\n",
       "      <td>1</td>\n",
       "      <td>0</td>\n",
       "      <td>0</td>\n",
       "      <td>1</td>\n",
       "      <td>12</td>\n",
       "      <td>2</td>\n",
       "      <td>0.400000</td>\n",
       "      <td>0.883679</td>\n",
       "      <td>0.370810</td>\n",
       "      <td>3.605551</td>\n",
       "      <td>0.6</td>\n",
       "      <td>0.5</td>\n",
       "      <td>0.2</td>\n",
       "      <td>3</td>\n",
       "      <td>1</td>\n",
       "      <td>10</td>\n",
       "      <td>1</td>\n",
       "      <td>10</td>\n",
       "      <td>1</td>\n",
       "      <td>5</td>\n",
       "      <td>9</td>\n",
       "      <td>1</td>\n",
       "      <td>5</td>\n",
       "      <td>8</td>\n",
       "      <td>0</td>\n",
       "      <td>1</td>\n",
       "      <td>1</td>\n",
       "      <td>0</td>\n",
       "      <td>0</td>\n",
       "      <td>1</td>\n",
       "    </tr>\n",
       "    <tr>\n",
       "      <th>1</th>\n",
       "      <td>9</td>\n",
       "      <td>0</td>\n",
       "      <td>1</td>\n",
       "      <td>1</td>\n",
       "      <td>7</td>\n",
       "      <td>0</td>\n",
       "      <td>0</td>\n",
       "      <td>0</td>\n",
       "      <td>0</td>\n",
       "      <td>1</td>\n",
       "      <td>0</td>\n",
       "      <td>0</td>\n",
       "      <td>0</td>\n",
       "      <td>0</td>\n",
       "      <td>0</td>\n",
       "      <td>0</td>\n",
       "      <td>3</td>\n",
       "      <td>0</td>\n",
       "      <td>0</td>\n",
       "      <td>1</td>\n",
       "      <td>0.8</td>\n",
       "      <td>0.4</td>\n",
       "      <td>0.766078</td>\n",
       "      <td>11</td>\n",
       "      <td>1</td>\n",
       "      <td>-1</td>\n",
       "      <td>0</td>\n",
       "      <td>-1</td>\n",
       "      <td>11</td>\n",
       "      <td>1</td>\n",
       "      <td>1</td>\n",
       "      <td>2</td>\n",
       "      <td>1</td>\n",
       "      <td>19</td>\n",
       "      <td>3</td>\n",
       "      <td>0.316228</td>\n",
       "      <td>0.618817</td>\n",
       "      <td>0.388716</td>\n",
       "      <td>2.449490</td>\n",
       "      <td>0.3</td>\n",
       "      <td>0.1</td>\n",
       "      <td>0.3</td>\n",
       "      <td>2</td>\n",
       "      <td>1</td>\n",
       "      <td>9</td>\n",
       "      <td>5</td>\n",
       "      <td>8</td>\n",
       "      <td>1</td>\n",
       "      <td>7</td>\n",
       "      <td>3</td>\n",
       "      <td>1</td>\n",
       "      <td>1</td>\n",
       "      <td>9</td>\n",
       "      <td>0</td>\n",
       "      <td>1</td>\n",
       "      <td>1</td>\n",
       "      <td>0</td>\n",
       "      <td>1</td>\n",
       "      <td>0</td>\n",
       "    </tr>\n",
       "    <tr>\n",
       "      <th>2</th>\n",
       "      <td>13</td>\n",
       "      <td>0</td>\n",
       "      <td>5</td>\n",
       "      <td>4</td>\n",
       "      <td>9</td>\n",
       "      <td>1</td>\n",
       "      <td>0</td>\n",
       "      <td>0</td>\n",
       "      <td>0</td>\n",
       "      <td>1</td>\n",
       "      <td>0</td>\n",
       "      <td>0</td>\n",
       "      <td>0</td>\n",
       "      <td>0</td>\n",
       "      <td>0</td>\n",
       "      <td>0</td>\n",
       "      <td>12</td>\n",
       "      <td>1</td>\n",
       "      <td>0</td>\n",
       "      <td>0</td>\n",
       "      <td>0.0</td>\n",
       "      <td>0.0</td>\n",
       "      <td>-1.000000</td>\n",
       "      <td>7</td>\n",
       "      <td>1</td>\n",
       "      <td>-1</td>\n",
       "      <td>0</td>\n",
       "      <td>-1</td>\n",
       "      <td>14</td>\n",
       "      <td>1</td>\n",
       "      <td>1</td>\n",
       "      <td>2</td>\n",
       "      <td>1</td>\n",
       "      <td>60</td>\n",
       "      <td>1</td>\n",
       "      <td>0.316228</td>\n",
       "      <td>0.641586</td>\n",
       "      <td>0.347275</td>\n",
       "      <td>3.316625</td>\n",
       "      <td>0.5</td>\n",
       "      <td>0.7</td>\n",
       "      <td>0.1</td>\n",
       "      <td>2</td>\n",
       "      <td>2</td>\n",
       "      <td>9</td>\n",
       "      <td>1</td>\n",
       "      <td>8</td>\n",
       "      <td>2</td>\n",
       "      <td>7</td>\n",
       "      <td>4</td>\n",
       "      <td>2</td>\n",
       "      <td>7</td>\n",
       "      <td>7</td>\n",
       "      <td>0</td>\n",
       "      <td>1</td>\n",
       "      <td>1</td>\n",
       "      <td>0</td>\n",
       "      <td>1</td>\n",
       "      <td>0</td>\n",
       "    </tr>\n",
       "    <tr>\n",
       "      <th>3</th>\n",
       "      <td>16</td>\n",
       "      <td>0</td>\n",
       "      <td>0</td>\n",
       "      <td>1</td>\n",
       "      <td>2</td>\n",
       "      <td>0</td>\n",
       "      <td>0</td>\n",
       "      <td>1</td>\n",
       "      <td>0</td>\n",
       "      <td>0</td>\n",
       "      <td>0</td>\n",
       "      <td>0</td>\n",
       "      <td>0</td>\n",
       "      <td>0</td>\n",
       "      <td>0</td>\n",
       "      <td>0</td>\n",
       "      <td>8</td>\n",
       "      <td>1</td>\n",
       "      <td>0</td>\n",
       "      <td>0</td>\n",
       "      <td>0.9</td>\n",
       "      <td>0.2</td>\n",
       "      <td>0.580948</td>\n",
       "      <td>7</td>\n",
       "      <td>1</td>\n",
       "      <td>0</td>\n",
       "      <td>0</td>\n",
       "      <td>1</td>\n",
       "      <td>11</td>\n",
       "      <td>1</td>\n",
       "      <td>1</td>\n",
       "      <td>3</td>\n",
       "      <td>1</td>\n",
       "      <td>104</td>\n",
       "      <td>1</td>\n",
       "      <td>0.374166</td>\n",
       "      <td>0.542949</td>\n",
       "      <td>0.294958</td>\n",
       "      <td>2.000000</td>\n",
       "      <td>0.6</td>\n",
       "      <td>0.9</td>\n",
       "      <td>0.1</td>\n",
       "      <td>2</td>\n",
       "      <td>4</td>\n",
       "      <td>7</td>\n",
       "      <td>1</td>\n",
       "      <td>8</td>\n",
       "      <td>4</td>\n",
       "      <td>2</td>\n",
       "      <td>2</td>\n",
       "      <td>2</td>\n",
       "      <td>4</td>\n",
       "      <td>9</td>\n",
       "      <td>0</td>\n",
       "      <td>0</td>\n",
       "      <td>0</td>\n",
       "      <td>0</td>\n",
       "      <td>0</td>\n",
       "      <td>0</td>\n",
       "    </tr>\n",
       "    <tr>\n",
       "      <th>4</th>\n",
       "      <td>17</td>\n",
       "      <td>0</td>\n",
       "      <td>0</td>\n",
       "      <td>2</td>\n",
       "      <td>0</td>\n",
       "      <td>1</td>\n",
       "      <td>0</td>\n",
       "      <td>1</td>\n",
       "      <td>0</td>\n",
       "      <td>0</td>\n",
       "      <td>0</td>\n",
       "      <td>0</td>\n",
       "      <td>0</td>\n",
       "      <td>0</td>\n",
       "      <td>0</td>\n",
       "      <td>0</td>\n",
       "      <td>9</td>\n",
       "      <td>1</td>\n",
       "      <td>0</td>\n",
       "      <td>0</td>\n",
       "      <td>0.7</td>\n",
       "      <td>0.6</td>\n",
       "      <td>0.840759</td>\n",
       "      <td>11</td>\n",
       "      <td>1</td>\n",
       "      <td>-1</td>\n",
       "      <td>0</td>\n",
       "      <td>-1</td>\n",
       "      <td>14</td>\n",
       "      <td>1</td>\n",
       "      <td>1</td>\n",
       "      <td>2</td>\n",
       "      <td>1</td>\n",
       "      <td>82</td>\n",
       "      <td>3</td>\n",
       "      <td>0.316070</td>\n",
       "      <td>0.565832</td>\n",
       "      <td>0.365103</td>\n",
       "      <td>2.000000</td>\n",
       "      <td>0.4</td>\n",
       "      <td>0.6</td>\n",
       "      <td>0.0</td>\n",
       "      <td>2</td>\n",
       "      <td>2</td>\n",
       "      <td>6</td>\n",
       "      <td>3</td>\n",
       "      <td>10</td>\n",
       "      <td>2</td>\n",
       "      <td>12</td>\n",
       "      <td>3</td>\n",
       "      <td>1</td>\n",
       "      <td>1</td>\n",
       "      <td>3</td>\n",
       "      <td>0</td>\n",
       "      <td>0</td>\n",
       "      <td>0</td>\n",
       "      <td>1</td>\n",
       "      <td>1</td>\n",
       "      <td>0</td>\n",
       "    </tr>\n",
       "  </tbody>\n",
       "</table>\n",
       "</div>"
      ],
      "text/plain": [
       "   id  target  ps_ind_01  ps_ind_02_cat  ps_ind_03  ps_ind_04_cat  \\\n",
       "0   7       0          2              2          5              1   \n",
       "1   9       0          1              1          7              0   \n",
       "2  13       0          5              4          9              1   \n",
       "3  16       0          0              1          2              0   \n",
       "4  17       0          0              2          0              1   \n",
       "\n",
       "   ps_ind_05_cat  ps_ind_06_bin  ps_ind_07_bin  ps_ind_08_bin  ps_ind_09_bin  \\\n",
       "0              0              0              1              0              0   \n",
       "1              0              0              0              1              0   \n",
       "2              0              0              0              1              0   \n",
       "3              0              1              0              0              0   \n",
       "4              0              1              0              0              0   \n",
       "\n",
       "   ps_ind_10_bin  ps_ind_11_bin  ps_ind_12_bin  ps_ind_13_bin  ps_ind_14  \\\n",
       "0              0              0              0              0          0   \n",
       "1              0              0              0              0          0   \n",
       "2              0              0              0              0          0   \n",
       "3              0              0              0              0          0   \n",
       "4              0              0              0              0          0   \n",
       "\n",
       "   ps_ind_15  ps_ind_16_bin  ps_ind_17_bin  ps_ind_18_bin  ps_reg_01  \\\n",
       "0         11              0              1              0        0.7   \n",
       "1          3              0              0              1        0.8   \n",
       "2         12              1              0              0        0.0   \n",
       "3          8              1              0              0        0.9   \n",
       "4          9              1              0              0        0.7   \n",
       "\n",
       "   ps_reg_02  ps_reg_03  ps_car_01_cat  ps_car_02_cat  ps_car_03_cat  \\\n",
       "0        0.2   0.718070             10              1             -1   \n",
       "1        0.4   0.766078             11              1             -1   \n",
       "2        0.0  -1.000000              7              1             -1   \n",
       "3        0.2   0.580948              7              1              0   \n",
       "4        0.6   0.840759             11              1             -1   \n",
       "\n",
       "   ps_car_04_cat  ps_car_05_cat  ps_car_06_cat  ps_car_07_cat  ps_car_08_cat  \\\n",
       "0              0              1              4              1              0   \n",
       "1              0             -1             11              1              1   \n",
       "2              0             -1             14              1              1   \n",
       "3              0              1             11              1              1   \n",
       "4              0             -1             14              1              1   \n",
       "\n",
       "   ps_car_09_cat  ps_car_10_cat  ps_car_11_cat  ps_car_11  ps_car_12  \\\n",
       "0              0              1             12          2   0.400000   \n",
       "1              2              1             19          3   0.316228   \n",
       "2              2              1             60          1   0.316228   \n",
       "3              3              1            104          1   0.374166   \n",
       "4              2              1             82          3   0.316070   \n",
       "\n",
       "   ps_car_13  ps_car_14  ps_car_15  ps_calc_01  ps_calc_02  ps_calc_03  \\\n",
       "0   0.883679   0.370810   3.605551         0.6         0.5         0.2   \n",
       "1   0.618817   0.388716   2.449490         0.3         0.1         0.3   \n",
       "2   0.641586   0.347275   3.316625         0.5         0.7         0.1   \n",
       "3   0.542949   0.294958   2.000000         0.6         0.9         0.1   \n",
       "4   0.565832   0.365103   2.000000         0.4         0.6         0.0   \n",
       "\n",
       "   ps_calc_04  ps_calc_05  ps_calc_06  ps_calc_07  ps_calc_08  ps_calc_09  \\\n",
       "0           3           1          10           1          10           1   \n",
       "1           2           1           9           5           8           1   \n",
       "2           2           2           9           1           8           2   \n",
       "3           2           4           7           1           8           4   \n",
       "4           2           2           6           3          10           2   \n",
       "\n",
       "   ps_calc_10  ps_calc_11  ps_calc_12  ps_calc_13  ps_calc_14  ps_calc_15_bin  \\\n",
       "0           5           9           1           5           8               0   \n",
       "1           7           3           1           1           9               0   \n",
       "2           7           4           2           7           7               0   \n",
       "3           2           2           2           4           9               0   \n",
       "4          12           3           1           1           3               0   \n",
       "\n",
       "   ps_calc_16_bin  ps_calc_17_bin  ps_calc_18_bin  ps_calc_19_bin  \\\n",
       "0               1               1               0               0   \n",
       "1               1               1               0               1   \n",
       "2               1               1               0               1   \n",
       "3               0               0               0               0   \n",
       "4               0               0               1               1   \n",
       "\n",
       "   ps_calc_20_bin  \n",
       "0               1  \n",
       "1               0  \n",
       "2               0  \n",
       "3               0  \n",
       "4               0  "
      ]
     },
     "metadata": {},
     "output_type": "display_data"
    }
   ],
   "source": [
    "display_all(train.head())"
   ]
  },
  {
   "cell_type": "code",
   "execution_count": 8,
   "id": "3889b243",
   "metadata": {
    "execution": {
     "iopub.execute_input": "2022-03-02T16:06:13.200076Z",
     "iopub.status.busy": "2022-03-02T16:06:13.199007Z",
     "iopub.status.idle": "2022-03-02T16:06:13.235281Z",
     "shell.execute_reply": "2022-03-02T16:06:13.235991Z",
     "shell.execute_reply.started": "2022-02-20T06:04:27.107475Z"
    },
    "papermill": {
     "duration": 0.108888,
     "end_time": "2022-03-02T16:06:13.236214",
     "exception": false,
     "start_time": "2022-03-02T16:06:13.127326",
     "status": "completed"
    },
    "tags": []
   },
   "outputs": [
    {
     "data": {
      "text/html": [
       "<div>\n",
       "<style scoped>\n",
       "    .dataframe tbody tr th:only-of-type {\n",
       "        vertical-align: middle;\n",
       "    }\n",
       "\n",
       "    .dataframe tbody tr th {\n",
       "        vertical-align: top;\n",
       "    }\n",
       "\n",
       "    .dataframe thead th {\n",
       "        text-align: right;\n",
       "    }\n",
       "</style>\n",
       "<table border=\"1\" class=\"dataframe\">\n",
       "  <thead>\n",
       "    <tr style=\"text-align: right;\">\n",
       "      <th></th>\n",
       "      <th>id</th>\n",
       "      <th>ps_ind_01</th>\n",
       "      <th>ps_ind_02_cat</th>\n",
       "      <th>ps_ind_03</th>\n",
       "      <th>ps_ind_04_cat</th>\n",
       "      <th>ps_ind_05_cat</th>\n",
       "      <th>ps_ind_06_bin</th>\n",
       "      <th>ps_ind_07_bin</th>\n",
       "      <th>ps_ind_08_bin</th>\n",
       "      <th>ps_ind_09_bin</th>\n",
       "      <th>ps_ind_10_bin</th>\n",
       "      <th>ps_ind_11_bin</th>\n",
       "      <th>ps_ind_12_bin</th>\n",
       "      <th>ps_ind_13_bin</th>\n",
       "      <th>ps_ind_14</th>\n",
       "      <th>ps_ind_15</th>\n",
       "      <th>ps_ind_16_bin</th>\n",
       "      <th>ps_ind_17_bin</th>\n",
       "      <th>ps_ind_18_bin</th>\n",
       "      <th>ps_reg_01</th>\n",
       "      <th>ps_reg_02</th>\n",
       "      <th>ps_reg_03</th>\n",
       "      <th>ps_car_01_cat</th>\n",
       "      <th>ps_car_02_cat</th>\n",
       "      <th>ps_car_03_cat</th>\n",
       "      <th>ps_car_04_cat</th>\n",
       "      <th>ps_car_05_cat</th>\n",
       "      <th>ps_car_06_cat</th>\n",
       "      <th>ps_car_07_cat</th>\n",
       "      <th>ps_car_08_cat</th>\n",
       "      <th>ps_car_09_cat</th>\n",
       "      <th>ps_car_10_cat</th>\n",
       "      <th>ps_car_11_cat</th>\n",
       "      <th>ps_car_11</th>\n",
       "      <th>ps_car_12</th>\n",
       "      <th>ps_car_13</th>\n",
       "      <th>ps_car_14</th>\n",
       "      <th>ps_car_15</th>\n",
       "      <th>ps_calc_01</th>\n",
       "      <th>ps_calc_02</th>\n",
       "      <th>ps_calc_03</th>\n",
       "      <th>ps_calc_04</th>\n",
       "      <th>ps_calc_05</th>\n",
       "      <th>ps_calc_06</th>\n",
       "      <th>ps_calc_07</th>\n",
       "      <th>ps_calc_08</th>\n",
       "      <th>ps_calc_09</th>\n",
       "      <th>ps_calc_10</th>\n",
       "      <th>ps_calc_11</th>\n",
       "      <th>ps_calc_12</th>\n",
       "      <th>ps_calc_13</th>\n",
       "      <th>ps_calc_14</th>\n",
       "      <th>ps_calc_15_bin</th>\n",
       "      <th>ps_calc_16_bin</th>\n",
       "      <th>ps_calc_17_bin</th>\n",
       "      <th>ps_calc_18_bin</th>\n",
       "      <th>ps_calc_19_bin</th>\n",
       "      <th>ps_calc_20_bin</th>\n",
       "    </tr>\n",
       "  </thead>\n",
       "  <tbody>\n",
       "    <tr>\n",
       "      <th>0</th>\n",
       "      <td>0</td>\n",
       "      <td>0</td>\n",
       "      <td>1</td>\n",
       "      <td>8</td>\n",
       "      <td>1</td>\n",
       "      <td>0</td>\n",
       "      <td>0</td>\n",
       "      <td>1</td>\n",
       "      <td>0</td>\n",
       "      <td>0</td>\n",
       "      <td>0</td>\n",
       "      <td>0</td>\n",
       "      <td>0</td>\n",
       "      <td>0</td>\n",
       "      <td>0</td>\n",
       "      <td>12</td>\n",
       "      <td>1</td>\n",
       "      <td>0</td>\n",
       "      <td>0</td>\n",
       "      <td>0.5</td>\n",
       "      <td>0.3</td>\n",
       "      <td>0.610328</td>\n",
       "      <td>7</td>\n",
       "      <td>1</td>\n",
       "      <td>-1</td>\n",
       "      <td>0</td>\n",
       "      <td>-1</td>\n",
       "      <td>1</td>\n",
       "      <td>1</td>\n",
       "      <td>1</td>\n",
       "      <td>2</td>\n",
       "      <td>1</td>\n",
       "      <td>65</td>\n",
       "      <td>1</td>\n",
       "      <td>0.316228</td>\n",
       "      <td>0.669556</td>\n",
       "      <td>0.352136</td>\n",
       "      <td>3.464102</td>\n",
       "      <td>0.1</td>\n",
       "      <td>0.8</td>\n",
       "      <td>0.6</td>\n",
       "      <td>1</td>\n",
       "      <td>1</td>\n",
       "      <td>6</td>\n",
       "      <td>3</td>\n",
       "      <td>6</td>\n",
       "      <td>2</td>\n",
       "      <td>9</td>\n",
       "      <td>1</td>\n",
       "      <td>1</td>\n",
       "      <td>1</td>\n",
       "      <td>12</td>\n",
       "      <td>0</td>\n",
       "      <td>1</td>\n",
       "      <td>1</td>\n",
       "      <td>0</td>\n",
       "      <td>0</td>\n",
       "      <td>1</td>\n",
       "    </tr>\n",
       "    <tr>\n",
       "      <th>1</th>\n",
       "      <td>1</td>\n",
       "      <td>4</td>\n",
       "      <td>2</td>\n",
       "      <td>5</td>\n",
       "      <td>1</td>\n",
       "      <td>0</td>\n",
       "      <td>0</td>\n",
       "      <td>0</td>\n",
       "      <td>0</td>\n",
       "      <td>1</td>\n",
       "      <td>0</td>\n",
       "      <td>0</td>\n",
       "      <td>0</td>\n",
       "      <td>0</td>\n",
       "      <td>0</td>\n",
       "      <td>5</td>\n",
       "      <td>1</td>\n",
       "      <td>0</td>\n",
       "      <td>0</td>\n",
       "      <td>0.9</td>\n",
       "      <td>0.5</td>\n",
       "      <td>0.771362</td>\n",
       "      <td>4</td>\n",
       "      <td>1</td>\n",
       "      <td>-1</td>\n",
       "      <td>0</td>\n",
       "      <td>0</td>\n",
       "      <td>11</td>\n",
       "      <td>1</td>\n",
       "      <td>1</td>\n",
       "      <td>0</td>\n",
       "      <td>1</td>\n",
       "      <td>103</td>\n",
       "      <td>1</td>\n",
       "      <td>0.316228</td>\n",
       "      <td>0.606320</td>\n",
       "      <td>0.358329</td>\n",
       "      <td>2.828427</td>\n",
       "      <td>0.4</td>\n",
       "      <td>0.5</td>\n",
       "      <td>0.4</td>\n",
       "      <td>3</td>\n",
       "      <td>3</td>\n",
       "      <td>8</td>\n",
       "      <td>4</td>\n",
       "      <td>10</td>\n",
       "      <td>2</td>\n",
       "      <td>7</td>\n",
       "      <td>2</td>\n",
       "      <td>0</td>\n",
       "      <td>3</td>\n",
       "      <td>10</td>\n",
       "      <td>0</td>\n",
       "      <td>0</td>\n",
       "      <td>1</td>\n",
       "      <td>1</td>\n",
       "      <td>0</td>\n",
       "      <td>1</td>\n",
       "    </tr>\n",
       "    <tr>\n",
       "      <th>2</th>\n",
       "      <td>2</td>\n",
       "      <td>5</td>\n",
       "      <td>1</td>\n",
       "      <td>3</td>\n",
       "      <td>0</td>\n",
       "      <td>0</td>\n",
       "      <td>0</td>\n",
       "      <td>0</td>\n",
       "      <td>0</td>\n",
       "      <td>1</td>\n",
       "      <td>0</td>\n",
       "      <td>0</td>\n",
       "      <td>0</td>\n",
       "      <td>0</td>\n",
       "      <td>0</td>\n",
       "      <td>10</td>\n",
       "      <td>0</td>\n",
       "      <td>0</td>\n",
       "      <td>0</td>\n",
       "      <td>0.4</td>\n",
       "      <td>0.0</td>\n",
       "      <td>0.916174</td>\n",
       "      <td>11</td>\n",
       "      <td>1</td>\n",
       "      <td>-1</td>\n",
       "      <td>0</td>\n",
       "      <td>-1</td>\n",
       "      <td>14</td>\n",
       "      <td>1</td>\n",
       "      <td>1</td>\n",
       "      <td>2</td>\n",
       "      <td>1</td>\n",
       "      <td>29</td>\n",
       "      <td>3</td>\n",
       "      <td>0.400000</td>\n",
       "      <td>0.896239</td>\n",
       "      <td>0.398497</td>\n",
       "      <td>3.316625</td>\n",
       "      <td>0.6</td>\n",
       "      <td>0.6</td>\n",
       "      <td>0.6</td>\n",
       "      <td>2</td>\n",
       "      <td>3</td>\n",
       "      <td>7</td>\n",
       "      <td>4</td>\n",
       "      <td>6</td>\n",
       "      <td>3</td>\n",
       "      <td>12</td>\n",
       "      <td>4</td>\n",
       "      <td>0</td>\n",
       "      <td>2</td>\n",
       "      <td>4</td>\n",
       "      <td>0</td>\n",
       "      <td>0</td>\n",
       "      <td>0</td>\n",
       "      <td>0</td>\n",
       "      <td>0</td>\n",
       "      <td>0</td>\n",
       "    </tr>\n",
       "    <tr>\n",
       "      <th>3</th>\n",
       "      <td>3</td>\n",
       "      <td>0</td>\n",
       "      <td>1</td>\n",
       "      <td>6</td>\n",
       "      <td>0</td>\n",
       "      <td>0</td>\n",
       "      <td>1</td>\n",
       "      <td>0</td>\n",
       "      <td>0</td>\n",
       "      <td>0</td>\n",
       "      <td>0</td>\n",
       "      <td>0</td>\n",
       "      <td>0</td>\n",
       "      <td>0</td>\n",
       "      <td>0</td>\n",
       "      <td>4</td>\n",
       "      <td>1</td>\n",
       "      <td>0</td>\n",
       "      <td>0</td>\n",
       "      <td>0.1</td>\n",
       "      <td>0.2</td>\n",
       "      <td>-1.000000</td>\n",
       "      <td>7</td>\n",
       "      <td>1</td>\n",
       "      <td>-1</td>\n",
       "      <td>0</td>\n",
       "      <td>-1</td>\n",
       "      <td>1</td>\n",
       "      <td>1</td>\n",
       "      <td>1</td>\n",
       "      <td>2</td>\n",
       "      <td>1</td>\n",
       "      <td>40</td>\n",
       "      <td>2</td>\n",
       "      <td>0.374166</td>\n",
       "      <td>0.652110</td>\n",
       "      <td>0.381445</td>\n",
       "      <td>2.449490</td>\n",
       "      <td>0.1</td>\n",
       "      <td>0.5</td>\n",
       "      <td>0.5</td>\n",
       "      <td>2</td>\n",
       "      <td>1</td>\n",
       "      <td>7</td>\n",
       "      <td>3</td>\n",
       "      <td>12</td>\n",
       "      <td>1</td>\n",
       "      <td>13</td>\n",
       "      <td>5</td>\n",
       "      <td>1</td>\n",
       "      <td>0</td>\n",
       "      <td>5</td>\n",
       "      <td>1</td>\n",
       "      <td>0</td>\n",
       "      <td>1</td>\n",
       "      <td>0</td>\n",
       "      <td>0</td>\n",
       "      <td>0</td>\n",
       "    </tr>\n",
       "    <tr>\n",
       "      <th>4</th>\n",
       "      <td>4</td>\n",
       "      <td>5</td>\n",
       "      <td>1</td>\n",
       "      <td>7</td>\n",
       "      <td>0</td>\n",
       "      <td>0</td>\n",
       "      <td>0</td>\n",
       "      <td>0</td>\n",
       "      <td>0</td>\n",
       "      <td>1</td>\n",
       "      <td>0</td>\n",
       "      <td>0</td>\n",
       "      <td>0</td>\n",
       "      <td>0</td>\n",
       "      <td>0</td>\n",
       "      <td>4</td>\n",
       "      <td>1</td>\n",
       "      <td>0</td>\n",
       "      <td>0</td>\n",
       "      <td>0.9</td>\n",
       "      <td>0.4</td>\n",
       "      <td>0.817771</td>\n",
       "      <td>11</td>\n",
       "      <td>1</td>\n",
       "      <td>-1</td>\n",
       "      <td>0</td>\n",
       "      <td>-1</td>\n",
       "      <td>11</td>\n",
       "      <td>1</td>\n",
       "      <td>1</td>\n",
       "      <td>2</td>\n",
       "      <td>1</td>\n",
       "      <td>101</td>\n",
       "      <td>3</td>\n",
       "      <td>0.374166</td>\n",
       "      <td>0.812914</td>\n",
       "      <td>0.385097</td>\n",
       "      <td>3.316625</td>\n",
       "      <td>0.9</td>\n",
       "      <td>0.6</td>\n",
       "      <td>0.8</td>\n",
       "      <td>3</td>\n",
       "      <td>4</td>\n",
       "      <td>7</td>\n",
       "      <td>1</td>\n",
       "      <td>10</td>\n",
       "      <td>4</td>\n",
       "      <td>12</td>\n",
       "      <td>4</td>\n",
       "      <td>0</td>\n",
       "      <td>0</td>\n",
       "      <td>4</td>\n",
       "      <td>0</td>\n",
       "      <td>1</td>\n",
       "      <td>1</td>\n",
       "      <td>0</td>\n",
       "      <td>0</td>\n",
       "      <td>1</td>\n",
       "    </tr>\n",
       "  </tbody>\n",
       "</table>\n",
       "</div>"
      ],
      "text/plain": [
       "   id  ps_ind_01  ps_ind_02_cat  ps_ind_03  ps_ind_04_cat  ps_ind_05_cat  \\\n",
       "0   0          0              1          8              1              0   \n",
       "1   1          4              2          5              1              0   \n",
       "2   2          5              1          3              0              0   \n",
       "3   3          0              1          6              0              0   \n",
       "4   4          5              1          7              0              0   \n",
       "\n",
       "   ps_ind_06_bin  ps_ind_07_bin  ps_ind_08_bin  ps_ind_09_bin  ps_ind_10_bin  \\\n",
       "0              0              1              0              0              0   \n",
       "1              0              0              0              1              0   \n",
       "2              0              0              0              1              0   \n",
       "3              1              0              0              0              0   \n",
       "4              0              0              0              1              0   \n",
       "\n",
       "   ps_ind_11_bin  ps_ind_12_bin  ps_ind_13_bin  ps_ind_14  ps_ind_15  \\\n",
       "0              0              0              0          0         12   \n",
       "1              0              0              0          0          5   \n",
       "2              0              0              0          0         10   \n",
       "3              0              0              0          0          4   \n",
       "4              0              0              0          0          4   \n",
       "\n",
       "   ps_ind_16_bin  ps_ind_17_bin  ps_ind_18_bin  ps_reg_01  ps_reg_02  \\\n",
       "0              1              0              0        0.5        0.3   \n",
       "1              1              0              0        0.9        0.5   \n",
       "2              0              0              0        0.4        0.0   \n",
       "3              1              0              0        0.1        0.2   \n",
       "4              1              0              0        0.9        0.4   \n",
       "\n",
       "   ps_reg_03  ps_car_01_cat  ps_car_02_cat  ps_car_03_cat  ps_car_04_cat  \\\n",
       "0   0.610328              7              1             -1              0   \n",
       "1   0.771362              4              1             -1              0   \n",
       "2   0.916174             11              1             -1              0   \n",
       "3  -1.000000              7              1             -1              0   \n",
       "4   0.817771             11              1             -1              0   \n",
       "\n",
       "   ps_car_05_cat  ps_car_06_cat  ps_car_07_cat  ps_car_08_cat  ps_car_09_cat  \\\n",
       "0             -1              1              1              1              2   \n",
       "1              0             11              1              1              0   \n",
       "2             -1             14              1              1              2   \n",
       "3             -1              1              1              1              2   \n",
       "4             -1             11              1              1              2   \n",
       "\n",
       "   ps_car_10_cat  ps_car_11_cat  ps_car_11  ps_car_12  ps_car_13  ps_car_14  \\\n",
       "0              1             65          1   0.316228   0.669556   0.352136   \n",
       "1              1            103          1   0.316228   0.606320   0.358329   \n",
       "2              1             29          3   0.400000   0.896239   0.398497   \n",
       "3              1             40          2   0.374166   0.652110   0.381445   \n",
       "4              1            101          3   0.374166   0.812914   0.385097   \n",
       "\n",
       "   ps_car_15  ps_calc_01  ps_calc_02  ps_calc_03  ps_calc_04  ps_calc_05  \\\n",
       "0   3.464102         0.1         0.8         0.6           1           1   \n",
       "1   2.828427         0.4         0.5         0.4           3           3   \n",
       "2   3.316625         0.6         0.6         0.6           2           3   \n",
       "3   2.449490         0.1         0.5         0.5           2           1   \n",
       "4   3.316625         0.9         0.6         0.8           3           4   \n",
       "\n",
       "   ps_calc_06  ps_calc_07  ps_calc_08  ps_calc_09  ps_calc_10  ps_calc_11  \\\n",
       "0           6           3           6           2           9           1   \n",
       "1           8           4          10           2           7           2   \n",
       "2           7           4           6           3          12           4   \n",
       "3           7           3          12           1          13           5   \n",
       "4           7           1          10           4          12           4   \n",
       "\n",
       "   ps_calc_12  ps_calc_13  ps_calc_14  ps_calc_15_bin  ps_calc_16_bin  \\\n",
       "0           1           1          12               0               1   \n",
       "1           0           3          10               0               0   \n",
       "2           0           2           4               0               0   \n",
       "3           1           0           5               1               0   \n",
       "4           0           0           4               0               1   \n",
       "\n",
       "   ps_calc_17_bin  ps_calc_18_bin  ps_calc_19_bin  ps_calc_20_bin  \n",
       "0               1               0               0               1  \n",
       "1               1               1               0               1  \n",
       "2               0               0               0               0  \n",
       "3               1               0               0               0  \n",
       "4               1               0               0               1  "
      ]
     },
     "metadata": {},
     "output_type": "display_data"
    }
   ],
   "source": [
    "display_all(test.head())"
   ]
  },
  {
   "cell_type": "code",
   "execution_count": 9,
   "id": "f76fa4aa",
   "metadata": {
    "execution": {
     "iopub.execute_input": "2022-03-02T16:06:13.396440Z",
     "iopub.status.busy": "2022-03-02T16:06:13.395552Z",
     "iopub.status.idle": "2022-03-02T16:06:13.672449Z",
     "shell.execute_reply": "2022-03-02T16:06:13.672925Z",
     "shell.execute_reply.started": "2022-02-20T06:04:27.14466Z"
    },
    "papermill": {
     "duration": 0.359907,
     "end_time": "2022-03-02T16:06:13.673128",
     "exception": false,
     "start_time": "2022-03-02T16:06:13.313221",
     "status": "completed"
    },
    "tags": []
   },
   "outputs": [],
   "source": [
    "train.replace(to_replace=-1, value=np.nan, inplace=True)\n",
    "test.replace(to_replace=-1, value=np.nan, inplace=True)"
   ]
  },
  {
   "cell_type": "code",
   "execution_count": 10,
   "id": "c8de9b1c",
   "metadata": {
    "execution": {
     "iopub.execute_input": "2022-03-02T16:06:13.803428Z",
     "iopub.status.busy": "2022-03-02T16:06:13.801580Z",
     "iopub.status.idle": "2022-03-02T16:06:13.805435Z",
     "shell.execute_reply": "2022-03-02T16:06:13.806011Z",
     "shell.execute_reply.started": "2022-02-20T06:04:27.415377Z"
    },
    "papermill": {
     "duration": 0.06973,
     "end_time": "2022-03-02T16:06:13.806190",
     "exception": false,
     "start_time": "2022-03-02T16:06:13.736460",
     "status": "completed"
    },
    "tags": []
   },
   "outputs": [],
   "source": [
    "pred_columns = train.columns[2:].values"
   ]
  },
  {
   "cell_type": "code",
   "execution_count": 11,
   "id": "81a68589",
   "metadata": {
    "execution": {
     "iopub.execute_input": "2022-03-02T16:06:13.936743Z",
     "iopub.status.busy": "2022-03-02T16:06:13.936002Z",
     "iopub.status.idle": "2022-03-02T16:06:13.937984Z",
     "shell.execute_reply": "2022-03-02T16:06:13.938671Z",
     "shell.execute_reply.started": "2022-02-20T06:04:27.421234Z"
    },
    "papermill": {
     "duration": 0.069732,
     "end_time": "2022-03-02T16:06:13.938878",
     "exception": false,
     "start_time": "2022-03-02T16:06:13.869146",
     "status": "completed"
    },
    "tags": []
   },
   "outputs": [],
   "source": [
    "# Let's do the column dtype conversions"
   ]
  },
  {
   "cell_type": "code",
   "execution_count": 12,
   "id": "1cb5df30",
   "metadata": {
    "execution": {
     "iopub.execute_input": "2022-03-02T16:06:14.069359Z",
     "iopub.status.busy": "2022-03-02T16:06:14.068381Z",
     "iopub.status.idle": "2022-03-02T16:06:14.073902Z",
     "shell.execute_reply": "2022-03-02T16:06:14.074490Z",
     "shell.execute_reply.started": "2022-02-20T06:04:27.429712Z"
    },
    "papermill": {
     "duration": 0.072636,
     "end_time": "2022-03-02T16:06:14.074661",
     "exception": false,
     "start_time": "2022-03-02T16:06:14.002025",
     "status": "completed"
    },
    "tags": []
   },
   "outputs": [],
   "source": [
    "pred_columns = train.columns[2:]\n",
    "bin_cols = [c for c in pred_columns if 'bin' in c]\n",
    "cat_cols = [c for c in pred_columns if 'cat' in c]\n",
    "num_cols= [c for c in pred_columns if c not in bin_cols and c not in cat_cols]"
   ]
  },
  {
   "cell_type": "code",
   "execution_count": 13,
   "id": "100c9a59",
   "metadata": {
    "execution": {
     "iopub.execute_input": "2022-03-02T16:06:14.205356Z",
     "iopub.status.busy": "2022-03-02T16:06:14.204390Z",
     "iopub.status.idle": "2022-03-02T16:06:15.045711Z",
     "shell.execute_reply": "2022-03-02T16:06:15.046559Z",
     "shell.execute_reply.started": "2022-02-20T06:04:27.438769Z"
    },
    "papermill": {
     "duration": 0.90857,
     "end_time": "2022-03-02T16:06:15.046757",
     "exception": false,
     "start_time": "2022-03-02T16:06:14.138187",
     "status": "completed"
    },
    "tags": []
   },
   "outputs": [
    {
     "name": "stdout",
     "output_type": "stream",
     "text": [
      "Column: PS_IND_02_CAT\n",
      "Train Summary\n",
      "Cardinality 5\n",
      "1.0    431859\n",
      "2.0    123573\n",
      "3.0     28186\n",
      "4.0     11378\n",
      "NaN       216\n",
      "Name: ps_ind_02_cat, dtype: int64\n",
      "Test Summary\n",
      "Cardinality 5\n",
      "1.0    647468\n",
      "2.0    186174\n",
      "3.0     41986\n",
      "4.0     16881\n",
      "NaN       307\n",
      "Name: ps_ind_02_cat, dtype: int64\n",
      "\n",
      "\n",
      "Column: PS_IND_04_CAT\n",
      "Train Summary\n",
      "Cardinality 3\n",
      "0.0    346965\n",
      "1.0    248164\n",
      "NaN        83\n",
      "Name: ps_ind_04_cat, dtype: int64\n",
      "Test Summary\n",
      "Cardinality 3\n",
      "0.0    519899\n",
      "1.0    372772\n",
      "NaN       145\n",
      "Name: ps_ind_04_cat, dtype: int64\n",
      "\n",
      "\n",
      "Column: PS_IND_05_CAT\n",
      "Train Summary\n",
      "Cardinality 8\n",
      "0.0    528009\n",
      "6.0     20662\n",
      "4.0     18344\n",
      "1.0      8322\n",
      "3.0      8233\n",
      "NaN      5809\n",
      "2.0      4184\n",
      "5.0      1649\n",
      "Name: ps_ind_05_cat, dtype: int64\n",
      "Test Summary\n",
      "Cardinality 8\n",
      "0.0    791403\n",
      "6.0     31215\n",
      "4.0     27362\n",
      "3.0     12521\n",
      "1.0     12415\n",
      "NaN      8710\n",
      "2.0      6523\n",
      "5.0      2667\n",
      "Name: ps_ind_05_cat, dtype: int64\n",
      "\n",
      "\n",
      "Column: PS_IND_06_BIN\n",
      "Train Summary\n",
      "Cardinality 2\n",
      "0    360852\n",
      "1    234360\n",
      "Name: ps_ind_06_bin, dtype: int64\n",
      "Test Summary\n",
      "Cardinality 2\n",
      "0    541720\n",
      "1    351096\n",
      "Name: ps_ind_06_bin, dtype: int64\n",
      "\n",
      "\n",
      "Column: PS_IND_07_BIN\n",
      "Train Summary\n",
      "Cardinality 2\n",
      "0    442223\n",
      "1    152989\n",
      "Name: ps_ind_07_bin, dtype: int64\n",
      "Test Summary\n",
      "Cardinality 2\n",
      "0    663192\n",
      "1    229624\n",
      "Name: ps_ind_07_bin, dtype: int64\n",
      "\n",
      "\n",
      "Column: PS_IND_08_BIN\n",
      "Train Summary\n",
      "Cardinality 2\n",
      "0    497644\n",
      "1     97568\n",
      "Name: ps_ind_08_bin, dtype: int64\n",
      "Test Summary\n",
      "Cardinality 2\n",
      "0    746699\n",
      "1    146117\n",
      "Name: ps_ind_08_bin, dtype: int64\n",
      "\n",
      "\n",
      "Column: PS_IND_09_BIN\n",
      "Train Summary\n",
      "Cardinality 2\n",
      "0    484917\n",
      "1    110295\n",
      "Name: ps_ind_09_bin, dtype: int64\n",
      "Test Summary\n",
      "Cardinality 2\n",
      "0    726837\n",
      "1    165979\n",
      "Name: ps_ind_09_bin, dtype: int64\n",
      "\n",
      "\n",
      "Column: PS_IND_10_BIN\n",
      "Train Summary\n",
      "Cardinality 2\n",
      "0    594990\n",
      "1       222\n",
      "Name: ps_ind_10_bin, dtype: int64\n",
      "Test Summary\n",
      "Cardinality 2\n",
      "0    892483\n",
      "1       333\n",
      "Name: ps_ind_10_bin, dtype: int64\n",
      "\n",
      "\n",
      "Column: PS_IND_11_BIN\n",
      "Train Summary\n",
      "Cardinality 2\n",
      "0    594205\n",
      "1      1007\n",
      "Name: ps_ind_11_bin, dtype: int64\n",
      "Test Summary\n",
      "Cardinality 2\n",
      "0    891392\n",
      "1      1424\n",
      "Name: ps_ind_11_bin, dtype: int64\n",
      "\n",
      "\n",
      "Column: PS_IND_12_BIN\n",
      "Train Summary\n",
      "Cardinality 2\n",
      "0    589594\n",
      "1      5618\n",
      "Name: ps_ind_12_bin, dtype: int64\n",
      "Test Summary\n",
      "Cardinality 2\n",
      "0    884445\n",
      "1      8371\n",
      "Name: ps_ind_12_bin, dtype: int64\n",
      "\n",
      "\n",
      "Column: PS_IND_13_BIN\n",
      "Train Summary\n",
      "Cardinality 2\n",
      "0    594648\n",
      "1       564\n",
      "Name: ps_ind_13_bin, dtype: int64\n",
      "Test Summary\n",
      "Cardinality 2\n",
      "0    891888\n",
      "1       928\n",
      "Name: ps_ind_13_bin, dtype: int64\n",
      "\n",
      "\n",
      "Column: PS_IND_16_BIN\n",
      "Train Summary\n",
      "Cardinality 2\n",
      "1    393330\n",
      "0    201882\n",
      "Name: ps_ind_16_bin, dtype: int64\n",
      "Test Summary\n",
      "Cardinality 2\n",
      "1    589786\n",
      "0    303030\n",
      "Name: ps_ind_16_bin, dtype: int64\n",
      "\n",
      "\n",
      "Column: PS_IND_17_BIN\n",
      "Train Summary\n",
      "Cardinality 2\n",
      "0    523143\n",
      "1     72069\n",
      "Name: ps_ind_17_bin, dtype: int64\n",
      "Test Summary\n",
      "Cardinality 2\n",
      "0    785322\n",
      "1    107494\n",
      "Name: ps_ind_17_bin, dtype: int64\n",
      "\n",
      "\n",
      "Column: PS_IND_18_BIN\n",
      "Train Summary\n",
      "Cardinality 2\n",
      "0    503879\n",
      "1     91333\n",
      "Name: ps_ind_18_bin, dtype: int64\n",
      "Test Summary\n",
      "Cardinality 2\n",
      "0    754454\n",
      "1    138362\n",
      "Name: ps_ind_18_bin, dtype: int64\n",
      "\n",
      "\n",
      "Column: PS_CAR_01_CAT\n",
      "Train Summary\n",
      "Cardinality 13\n",
      "11.0    207573\n",
      "7.0     179247\n",
      "6.0      62393\n",
      "10.0     50087\n",
      "4.0      26174\n",
      "9.0      20323\n",
      "5.0      18142\n",
      "8.0      15093\n",
      "3.0       6658\n",
      "0.0       5904\n",
      "2.0       2144\n",
      "1.0       1367\n",
      "NaN        107\n",
      "Name: ps_car_01_cat, dtype: int64\n",
      "Test Summary\n",
      "Cardinality 13\n",
      "11.0    311152\n",
      "7.0     270370\n",
      "6.0      93386\n",
      "10.0     74500\n",
      "4.0      39546\n",
      "9.0      30178\n",
      "5.0      26940\n",
      "8.0      22510\n",
      "3.0      10024\n",
      "0.0       8940\n",
      "2.0       3098\n",
      "1.0       2012\n",
      "NaN        160\n",
      "Name: ps_car_01_cat, dtype: int64\n",
      "\n",
      "\n",
      "Column: PS_CAR_02_CAT\n",
      "Train Summary\n",
      "Cardinality 3\n",
      "1.0    493990\n",
      "0.0    101217\n",
      "NaN         5\n",
      "Name: ps_car_02_cat, dtype: int64\n",
      "Test Summary\n",
      "Cardinality 3\n",
      "1.0    740989\n",
      "0.0    151822\n",
      "NaN         5\n",
      "Name: ps_car_02_cat, dtype: int64\n",
      "\n",
      "\n",
      "Column: PS_CAR_03_CAT\n",
      "Train Summary\n",
      "Cardinality 3\n",
      "NaN    411231\n",
      "1.0    110709\n",
      "0.0     73272\n",
      "Name: ps_car_03_cat, dtype: int64\n",
      "Test Summary\n",
      "Cardinality 3\n",
      "NaN    616911\n",
      "1.0    166133\n",
      "0.0    109772\n",
      "Name: ps_car_03_cat, dtype: int64\n",
      "\n",
      "\n",
      "Column: PS_CAR_04_CAT\n",
      "Train Summary\n",
      "Cardinality 10\n",
      "0    496581\n",
      "1     32115\n",
      "2     23770\n",
      "8     20598\n",
      "9     19034\n",
      "6      1560\n",
      "3       640\n",
      "5       545\n",
      "4       230\n",
      "7       139\n",
      "Name: ps_car_04_cat, dtype: int64\n",
      "Test Summary\n",
      "Cardinality 10\n",
      "0    744753\n",
      "1     48446\n",
      "2     35318\n",
      "8     30613\n",
      "9     28823\n",
      "6      2377\n",
      "3      1073\n",
      "5       785\n",
      "4       397\n",
      "7       231\n",
      "Name: ps_car_04_cat, dtype: int64\n",
      "\n",
      "\n",
      "Column: PS_CAR_05_CAT\n",
      "Train Summary\n",
      "Cardinality 3\n",
      "NaN    266551\n",
      "1.0    172667\n",
      "0.0    155994\n",
      "Name: ps_car_05_cat, dtype: int64\n",
      "Test Summary\n",
      "Cardinality 3\n",
      "NaN    400359\n",
      "1.0    258893\n",
      "0.0    233564\n",
      "Name: ps_car_05_cat, dtype: int64\n",
      "\n",
      "\n",
      "Column: PS_CAR_06_CAT\n",
      "Train Summary\n",
      "Cardinality 18\n",
      "11    131527\n",
      "1     118386\n",
      "0     110420\n",
      "14     59253\n",
      "10     33466\n",
      "4      31136\n",
      "15     21732\n",
      "6      20951\n",
      "9      17617\n",
      "7      16158\n",
      "3      11997\n",
      "13      6246\n",
      "17      4935\n",
      "16      4582\n",
      "12      2386\n",
      "2       1607\n",
      "8       1412\n",
      "5       1401\n",
      "Name: ps_car_06_cat, dtype: int64\n",
      "Test Summary\n",
      "Cardinality 18\n",
      "11    198363\n",
      "1     177188\n",
      "0     165077\n",
      "14     88461\n",
      "10     50097\n",
      "4      46709\n",
      "15     32419\n",
      "6      31620\n",
      "9      26193\n",
      "7      24485\n",
      "3      18034\n",
      "13      9110\n",
      "17      7613\n",
      "16      7189\n",
      "12      3605\n",
      "2       2516\n",
      "5       2078\n",
      "8       2059\n",
      "Name: ps_car_06_cat, dtype: int64\n",
      "\n",
      "\n",
      "Column: PS_CAR_07_CAT\n",
      "Train Summary\n",
      "Cardinality 3\n",
      "1.0    553148\n",
      "0.0     30575\n",
      "NaN     11489\n",
      "Name: ps_car_07_cat, dtype: int64\n",
      "Test Summary\n",
      "Cardinality 3\n",
      "1.0    829922\n",
      "0.0     45563\n",
      "NaN     17331\n",
      "Name: ps_car_07_cat, dtype: int64\n",
      "\n",
      "\n",
      "Column: PS_CAR_08_CAT\n",
      "Train Summary\n",
      "Cardinality 2\n",
      "1    495264\n",
      "0     99948\n",
      "Name: ps_car_08_cat, dtype: int64\n",
      "Test Summary\n",
      "Cardinality 2\n",
      "1    743101\n",
      "0    149715\n",
      "Name: ps_car_08_cat, dtype: int64\n",
      "\n",
      "\n",
      "Column: PS_CAR_09_CAT\n",
      "Train Summary\n",
      "Cardinality 6\n",
      "2.0    353482\n",
      "0.0    194518\n",
      "1.0     29080\n",
      "3.0     14756\n",
      "4.0      2807\n",
      "NaN       569\n",
      "Name: ps_car_09_cat, dtype: int64\n",
      "Test Summary\n",
      "Cardinality 6\n",
      "2.0    529844\n",
      "0.0    291992\n",
      "1.0     43867\n",
      "3.0     22042\n",
      "4.0      4194\n",
      "NaN       877\n",
      "Name: ps_car_09_cat, dtype: int64\n",
      "\n",
      "\n",
      "Column: PS_CAR_10_CAT\n",
      "Train Summary\n",
      "Cardinality 3\n",
      "1    590179\n",
      "0      4857\n",
      "2       176\n",
      "Name: ps_car_10_cat, dtype: int64\n",
      "Test Summary\n",
      "Cardinality 3\n",
      "1    885281\n",
      "0      7279\n",
      "2       256\n",
      "Name: ps_car_10_cat, dtype: int64\n",
      "\n",
      "\n",
      "Column: PS_CAR_11_CAT\n",
      "Train Summary\n",
      "Cardinality 104\n",
      "104    85083\n",
      "103    24262\n",
      "64     22278\n",
      "87     17106\n",
      "32     12578\n",
      "       ...  \n",
      "58      1464\n",
      "81      1433\n",
      "56      1272\n",
      "18      1233\n",
      "63      1103\n",
      "Name: ps_car_11_cat, Length: 104, dtype: int64\n",
      "Test Summary\n",
      "Cardinality 104\n",
      "104    127906\n",
      "103     36800\n",
      "64      33113\n",
      "87      25766\n",
      "28      18806\n",
      "        ...  \n",
      "97       2208\n",
      "81       2175\n",
      "56       1903\n",
      "18       1833\n",
      "63       1619\n",
      "Name: ps_car_11_cat, Length: 104, dtype: int64\n",
      "\n",
      "\n",
      "Column: PS_CALC_15_BIN\n",
      "Train Summary\n",
      "Cardinality 2\n",
      "0    522342\n",
      "1     72870\n",
      "Name: ps_calc_15_bin, dtype: int64\n",
      "Test Summary\n",
      "Cardinality 2\n",
      "0    782357\n",
      "1    110459\n",
      "Name: ps_calc_15_bin, dtype: int64\n",
      "\n",
      "\n",
      "Column: PS_CALC_16_BIN\n",
      "Train Summary\n",
      "Cardinality 2\n",
      "1    373698\n",
      "0    221514\n",
      "Name: ps_calc_16_bin, dtype: int64\n",
      "Test Summary\n",
      "Cardinality 2\n",
      "1    560471\n",
      "0    332345\n",
      "Name: ps_calc_16_bin, dtype: int64\n",
      "\n",
      "\n",
      "Column: PS_CALC_17_BIN\n",
      "Train Summary\n",
      "Cardinality 2\n",
      "1    329856\n",
      "0    265356\n",
      "Name: ps_calc_17_bin, dtype: int64\n",
      "Test Summary\n",
      "Cardinality 2\n",
      "1    495209\n",
      "0    397607\n",
      "Name: ps_calc_17_bin, dtype: int64\n",
      "\n",
      "\n",
      "Column: PS_CALC_18_BIN\n",
      "Train Summary\n",
      "Cardinality 2\n",
      "0    424278\n",
      "1    170934\n",
      "Name: ps_calc_18_bin, dtype: int64\n",
      "Test Summary\n",
      "Cardinality 2\n",
      "0    635867\n",
      "1    256949\n",
      "Name: ps_calc_18_bin, dtype: int64\n",
      "\n",
      "\n",
      "Column: PS_CALC_19_BIN\n",
      "Train Summary\n",
      "Cardinality 2\n",
      "0    387469\n",
      "1    207743\n",
      "Name: ps_calc_19_bin, dtype: int64\n",
      "Test Summary\n",
      "Cardinality 2\n",
      "0    580916\n",
      "1    311900\n",
      "Name: ps_calc_19_bin, dtype: int64\n",
      "\n",
      "\n",
      "Column: PS_CALC_20_BIN\n",
      "Train Summary\n",
      "Cardinality 2\n",
      "0    503955\n",
      "1     91257\n",
      "Name: ps_calc_20_bin, dtype: int64\n",
      "Test Summary\n",
      "Cardinality 2\n",
      "0    756726\n",
      "1    136090\n",
      "Name: ps_calc_20_bin, dtype: int64\n",
      "\n",
      "\n"
     ]
    }
   ],
   "source": [
    "for c in pred_columns:\n",
    "    if 'cat' in c or 'bin' in c:\n",
    "        print(f'Column: {c.upper()}')\n",
    "        print('Train Summary')\n",
    "        print(f'Cardinality {len(train[c].unique())}')\n",
    "        print(train[c].value_counts(dropna=False))\n",
    "        print('Test Summary')\n",
    "        print(f'Cardinality {len(test[c].unique())}')\n",
    "        print(test[c].value_counts(dropna=False))\n",
    "        print()\n",
    "        print()"
   ]
  },
  {
   "cell_type": "code",
   "execution_count": 14,
   "id": "b11f3b6c",
   "metadata": {
    "execution": {
     "iopub.execute_input": "2022-03-02T16:06:15.205315Z",
     "iopub.status.busy": "2022-03-02T16:06:15.204521Z",
     "iopub.status.idle": "2022-03-02T16:06:15.207408Z",
     "shell.execute_reply": "2022-03-02T16:06:15.206831Z",
     "shell.execute_reply.started": "2022-02-20T06:04:28.114287Z"
    },
    "papermill": {
     "duration": 0.08247,
     "end_time": "2022-03-02T16:06:15.207553",
     "exception": false,
     "start_time": "2022-03-02T16:06:15.125083",
     "status": "completed"
    },
    "tags": []
   },
   "outputs": [],
   "source": [
    "# For fast iteration we will be using a subsample of data For fast iteration we will be using a subsample of data"
   ]
  },
  {
   "cell_type": "code",
   "execution_count": 15,
   "id": "56b95dc6",
   "metadata": {
    "execution": {
     "iopub.execute_input": "2022-03-02T16:06:15.344550Z",
     "iopub.status.busy": "2022-03-02T16:06:15.343488Z",
     "iopub.status.idle": "2022-03-02T16:06:15.349249Z",
     "shell.execute_reply": "2022-03-02T16:06:15.349741Z",
     "shell.execute_reply.started": "2022-02-20T06:04:28.120186Z"
    },
    "papermill": {
     "duration": 0.075098,
     "end_time": "2022-03-02T16:06:15.349923",
     "exception": false,
     "start_time": "2022-03-02T16:06:15.274825",
     "status": "completed"
    },
    "tags": []
   },
   "outputs": [],
   "source": [
    "def subsample(data, ratio=0.5):\n",
    "    subsample, _ = train_test_split(data, test_size =ratio, stratify=train.target)\n",
    "    return subsample"
   ]
  },
  {
   "cell_type": "code",
   "execution_count": 16,
   "id": "99aa02e6",
   "metadata": {
    "execution": {
     "iopub.execute_input": "2022-03-02T16:06:15.486754Z",
     "iopub.status.busy": "2022-03-02T16:06:15.485609Z",
     "iopub.status.idle": "2022-03-02T16:06:16.481709Z",
     "shell.execute_reply": "2022-03-02T16:06:16.482640Z",
     "shell.execute_reply.started": "2022-02-20T06:04:28.130129Z"
    },
    "papermill": {
     "duration": 1.067202,
     "end_time": "2022-03-02T16:06:16.482804",
     "exception": false,
     "start_time": "2022-03-02T16:06:15.415602",
     "status": "completed"
    },
    "tags": []
   },
   "outputs": [],
   "source": [
    "subsample = subsample(train)"
   ]
  },
  {
   "cell_type": "code",
   "execution_count": 17,
   "id": "1c5a8043",
   "metadata": {
    "execution": {
     "iopub.execute_input": "2022-03-02T16:06:16.617777Z",
     "iopub.status.busy": "2022-03-02T16:06:16.617066Z",
     "iopub.status.idle": "2022-03-02T16:06:16.619000Z",
     "shell.execute_reply": "2022-03-02T16:06:16.619624Z",
     "shell.execute_reply.started": "2022-02-20T06:04:28.81335Z"
    },
    "papermill": {
     "duration": 0.071503,
     "end_time": "2022-03-02T16:06:16.619787",
     "exception": false,
     "start_time": "2022-03-02T16:06:16.548284",
     "status": "completed"
    },
    "tags": []
   },
   "outputs": [],
   "source": [
    "# If feature is not binary include in correlation matrix"
   ]
  },
  {
   "cell_type": "code",
   "execution_count": 18,
   "id": "a6c998d9",
   "metadata": {
    "execution": {
     "iopub.execute_input": "2022-03-02T16:06:16.754406Z",
     "iopub.status.busy": "2022-03-02T16:06:16.753717Z",
     "iopub.status.idle": "2022-03-02T16:06:17.785505Z",
     "shell.execute_reply": "2022-03-02T16:06:17.784755Z",
     "shell.execute_reply.started": "2022-02-20T06:04:28.81905Z"
    },
    "papermill": {
     "duration": 1.100637,
     "end_time": "2022-03-02T16:06:17.785676",
     "exception": false,
     "start_time": "2022-03-02T16:06:16.685039",
     "status": "completed"
    },
    "tags": []
   },
   "outputs": [
    {
     "data": {
      "image/png": "[encoded data removed]",
      "text/plain": [
       "<Figure size 432x288 with 1 Axes>"
      ]
     },
     "metadata": {
      "needs_background": "light"
     },
     "output_type": "display_data"
    }
   ],
   "source": [
    "corr_cols = [c for c in num_cols if len(train[c].unique()) > 2]\n",
    "plt.imshow((subsample[corr_cols].corr()), cmap='hot', interpolation='nearest')\n",
    "plt.show()"
   ]
  },
  {
   "cell_type": "code",
   "execution_count": 19,
   "id": "058f25fe",
   "metadata": {
    "execution": {
     "iopub.execute_input": "2022-03-02T16:06:17.982397Z",
     "iopub.status.busy": "2022-03-02T16:06:17.981204Z",
     "iopub.status.idle": "2022-03-02T16:06:18.719784Z",
     "shell.execute_reply": "2022-03-02T16:06:18.720536Z",
     "shell.execute_reply.started": "2022-02-20T06:04:29.705049Z"
    },
    "papermill": {
     "duration": 0.854137,
     "end_time": "2022-03-02T16:06:18.720863",
     "exception": false,
     "start_time": "2022-03-02T16:06:17.866726",
     "status": "completed"
    },
    "tags": []
   },
   "outputs": [
    {
     "name": "stdout",
     "output_type": "stream",
     "text": [
      "Corr between ps_reg_01 and ps_reg_02: 0.4704366667934968\n",
      "Corr between ps_reg_02 and ps_reg_01: 0.4704366667934968\n",
      "Corr between ps_reg_02 and ps_reg_03: 0.7425052558168846\n",
      "Corr between ps_reg_03 and ps_reg_02: 0.7425052558168846\n",
      "Corr between ps_car_12 and ps_car_13: 0.6729428305928644\n",
      "Corr between ps_car_12 and ps_car_14: 0.6040142016153499\n",
      "Corr between ps_car_13 and ps_car_12: 0.6729428305928644\n",
      "Corr between ps_car_13 and ps_car_14: 0.46048482423260895\n",
      "Corr between ps_car_13 and ps_car_15: 0.530593816556586\n",
      "Corr between ps_car_14 and ps_car_12: 0.6040142016153499\n",
      "Corr between ps_car_14 and ps_car_13: 0.46048482423260895\n",
      "Corr between ps_car_15 and ps_car_13: 0.530593816556586\n"
     ]
    }
   ],
   "source": [
    "corr_mat = np.array(subsample[corr_cols].corr())\n",
    "\n",
    "i_ix = np.where((corr_mat > 0.4) | (corr_mat < -0.4))[0]\n",
    "j_ix = np.where((corr_mat > 0.4) | (corr_mat < -0.4))[1]\n",
    "for i, j in zip(i_ix, j_ix):\n",
    "    if i != j:\n",
    "        print(f'Corr between {corr_cols[i]} and {corr_cols[j]}: {corr_mat[i, j]}')"
   ]
  },
  {
   "cell_type": "code",
   "execution_count": 20,
   "id": "b10d91ce",
   "metadata": {
    "execution": {
     "iopub.execute_input": "2022-03-02T16:06:18.885527Z",
     "iopub.status.busy": "2022-03-02T16:06:18.884807Z",
     "iopub.status.idle": "2022-03-02T16:06:18.887215Z",
     "shell.execute_reply": "2022-03-02T16:06:18.886572Z",
     "shell.execute_reply.started": "2022-02-20T06:04:30.272696Z"
    },
    "papermill": {
     "duration": 0.087704,
     "end_time": "2022-03-02T16:06:18.887355",
     "exception": false,
     "start_time": "2022-03-02T16:06:18.799651",
     "status": "completed"
    },
    "tags": []
   },
   "outputs": [],
   "source": [
    "# Define competition metric"
   ]
  },
  {
   "cell_type": "code",
   "execution_count": 21,
   "id": "9204eef8",
   "metadata": {
    "execution": {
     "iopub.execute_input": "2022-03-02T16:06:19.029295Z",
     "iopub.status.busy": "2022-03-02T16:06:19.028613Z",
     "iopub.status.idle": "2022-03-02T16:06:19.032312Z",
     "shell.execute_reply": "2022-03-02T16:06:19.031697Z",
     "shell.execute_reply.started": "2022-02-20T06:04:30.277268Z"
    },
    "papermill": {
     "duration": 0.077639,
     "end_time": "2022-03-02T16:06:19.032452",
     "exception": false,
     "start_time": "2022-03-02T16:06:18.954813",
     "status": "completed"
    },
    "tags": []
   },
   "outputs": [],
   "source": [
    "def gini(actual, pred, cmpcol = 0, sortcol = 1):\n",
    "    assert( len(actual) == len(pred) )\n",
    "    all = np.asarray(np.c_[ actual, pred, np.arange(len(actual)) ], dtype=np.float)\n",
    "    all = all[ np.lexsort((all[:,2], -1*all[:,1])) ]\n",
    "    totalLosses = all[:,0].sum()\n",
    "    giniSum = all[:,0].cumsum().sum() / totalLosses\n",
    "\n",
    "    giniSum -= (len(actual) + 1) / 2.\n",
    "    return giniSum / len(actual)\n",
    "\n",
    "def gini_normalized(a, p):\n",
    "    return gini(a, p) / gini(a, a)"
   ]
  },
  {
   "cell_type": "code",
   "execution_count": 22,
   "id": "83a6d9b5",
   "metadata": {
    "execution": {
     "iopub.execute_input": "2022-03-02T16:06:19.173198Z",
     "iopub.status.busy": "2022-03-02T16:06:19.172388Z",
     "iopub.status.idle": "2022-03-02T16:06:19.174666Z",
     "shell.execute_reply": "2022-03-02T16:06:19.175323Z",
     "shell.execute_reply.started": "2022-02-20T06:04:30.287359Z"
    },
    "papermill": {
     "duration": 0.074891,
     "end_time": "2022-03-02T16:06:19.175496",
     "exception": false,
     "start_time": "2022-03-02T16:06:19.100605",
     "status": "completed"
    },
    "tags": []
   },
   "outputs": [],
   "source": [
    "shuffleSplit = StratifiedShuffleSplit(n_splits=5, test_size=0.5, random_state= 10)"
   ]
  },
  {
   "cell_type": "code",
   "execution_count": 23,
   "id": "65033718",
   "metadata": {
    "execution": {
     "iopub.execute_input": "2022-03-02T16:06:19.339913Z",
     "iopub.status.busy": "2022-03-02T16:06:19.339073Z",
     "iopub.status.idle": "2022-03-02T16:06:19.341409Z",
     "shell.execute_reply": "2022-03-02T16:06:19.340684Z",
     "shell.execute_reply.started": "2022-02-20T06:04:30.296723Z"
    },
    "papermill": {
     "duration": 0.085834,
     "end_time": "2022-03-02T16:06:19.341552",
     "exception": false,
     "start_time": "2022-03-02T16:06:19.255718",
     "status": "completed"
    },
    "tags": []
   },
   "outputs": [],
   "source": [
    "subsample.reset_index(drop=True, inplace=True)"
   ]
  },
  {
   "cell_type": "code",
   "execution_count": 24,
   "id": "2bb123f7",
   "metadata": {
    "execution": {
     "iopub.execute_input": "2022-03-02T16:06:19.507175Z",
     "iopub.status.busy": "2022-03-02T16:06:19.501230Z",
     "iopub.status.idle": "2022-03-02T16:06:19.509631Z",
     "shell.execute_reply": "2022-03-02T16:06:19.510303Z",
     "shell.execute_reply.started": "2022-02-20T06:04:30.30392Z"
    },
    "papermill": {
     "duration": 0.090082,
     "end_time": "2022-03-02T16:06:19.510506",
     "exception": false,
     "start_time": "2022-03-02T16:06:19.420424",
     "status": "completed"
    },
    "tags": []
   },
   "outputs": [],
   "source": [
    "def xgb_feedback(params, nrounds, prc_subsample):\n",
    "    val_scores = []\n",
    "    for train_ix, val_ix in shuffleSplit.split(prc_subsample, prc_subsample.target):\n",
    "        X_train, y_train = prc_subsample.loc[train_ix].drop(['id', 'target'], axis=1), prc_subsample.target.loc[train_ix]\n",
    "        X_val, y_val = prc_subsample.loc[val_ix].drop(['id', 'target'], axis=1), prc_subsample.target.loc[val_ix]\n",
    "\n",
    "        #create dmatrix\n",
    "        dtrain = xgb.DMatrix(data=X_train, label=y_train, missing= np.nan)\n",
    "        dval = xgb.DMatrix(data=X_val, label=y_val, missing= np.nan)\n",
    "\n",
    "        #train\n",
    "        model = xgb.train(params, dtrain, num_boost_round=nrounds)\n",
    "        preds = model.predict(dval)\n",
    "        score = gini_normalized(y_val, preds)\n",
    "        val_scores.append(score)\n",
    "    return val_scores, model"
   ]
  },
  {
   "cell_type": "code",
   "execution_count": 25,
   "id": "bcff261e",
   "metadata": {
    "execution": {
     "iopub.execute_input": "2022-03-02T16:06:19.688901Z",
     "iopub.status.busy": "2022-03-02T16:06:19.687952Z",
     "iopub.status.idle": "2022-03-02T16:06:19.691355Z",
     "shell.execute_reply": "2022-03-02T16:06:19.692044Z",
     "shell.execute_reply.started": "2022-02-20T06:04:30.314269Z"
    },
    "papermill": {
     "duration": 0.103641,
     "end_time": "2022-03-02T16:06:19.692476",
     "exception": false,
     "start_time": "2022-03-02T16:06:19.588835",
     "status": "completed"
    },
    "tags": []
   },
   "outputs": [],
   "source": [
    "def score_summary(scores):return f'Mean: {np.mean(scores)} Std: {np.std(scores)}'\n"
   ]
  },
  {
   "cell_type": "code",
   "execution_count": 26,
   "id": "266a8119",
   "metadata": {
    "execution": {
     "iopub.execute_input": "2022-03-02T16:06:19.851399Z",
     "iopub.status.busy": "2022-03-02T16:06:19.850550Z",
     "iopub.status.idle": "2022-03-02T16:06:19.854216Z",
     "shell.execute_reply": "2022-03-02T16:06:19.854987Z",
     "shell.execute_reply.started": "2022-02-20T06:04:30.321513Z"
    },
    "papermill": {
     "duration": 0.083833,
     "end_time": "2022-03-02T16:06:19.855215",
     "exception": false,
     "start_time": "2022-03-02T16:06:19.771382",
     "status": "completed"
    },
    "tags": []
   },
   "outputs": [],
   "source": [
    "iter_performances = defaultdict()\n",
    "def add_to_iter(scores, name):\n",
    "    iter_performances[name]= scores"
   ]
  },
  {
   "cell_type": "code",
   "execution_count": 27,
   "id": "e814d78b",
   "metadata": {
    "execution": {
     "iopub.execute_input": "2022-03-02T16:06:20.011738Z",
     "iopub.status.busy": "2022-03-02T16:06:20.010968Z",
     "iopub.status.idle": "2022-03-02T16:06:20.015537Z",
     "shell.execute_reply": "2022-03-02T16:06:20.016285Z",
     "shell.execute_reply.started": "2022-02-20T06:04:30.329656Z"
    },
    "papermill": {
     "duration": 0.084453,
     "end_time": "2022-03-02T16:06:20.016493",
     "exception": false,
     "start_time": "2022-03-02T16:06:19.932040",
     "status": "completed"
    },
    "tags": []
   },
   "outputs": [],
   "source": [
    "def plot_model(model):\n",
    "    matplotlib.rcParams['figure.figsize'] = [10, 7]\n",
    "    ax = xgb.plot_importance(model)"
   ]
  },
  {
   "cell_type": "code",
   "execution_count": 28,
   "id": "41935ae4",
   "metadata": {
    "execution": {
     "iopub.execute_input": "2022-03-02T16:06:20.177819Z",
     "iopub.status.busy": "2022-03-02T16:06:20.177044Z",
     "iopub.status.idle": "2022-03-02T16:06:20.182546Z",
     "shell.execute_reply": "2022-03-02T16:06:20.183226Z",
     "shell.execute_reply.started": "2022-02-20T06:04:30.346661Z"
    },
    "papermill": {
     "duration": 0.087019,
     "end_time": "2022-03-02T16:06:20.183420",
     "exception": false,
     "start_time": "2022-03-02T16:06:20.096401",
     "status": "completed"
    },
    "tags": []
   },
   "outputs": [],
   "source": [
    "#first process is just to put those NA -1s back\n",
    "def prc1(data):\n",
    "    data = data.fillna(-1)\n",
    "    return data"
   ]
  },
  {
   "cell_type": "code",
   "execution_count": 29,
   "id": "57e15e18",
   "metadata": {
    "execution": {
     "iopub.execute_input": "2022-03-02T16:06:20.335869Z",
     "iopub.status.busy": "2022-03-02T16:06:20.335151Z",
     "iopub.status.idle": "2022-03-02T16:06:48.737529Z",
     "shell.execute_reply": "2022-03-02T16:06:48.736928Z",
     "shell.execute_reply.started": "2022-02-20T06:04:30.351788Z"
    },
    "papermill": {
     "duration": 28.479145,
     "end_time": "2022-03-02T16:06:48.737697",
     "exception": false,
     "start_time": "2022-03-02T16:06:20.258552",
     "status": "completed"
    },
    "tags": []
   },
   "outputs": [
    {
     "name": "stdout",
     "output_type": "stream",
     "text": [
      "[16:06:23] WARNING: ../src/learner.cc:1115: Starting in XGBoost 1.3.0, the default evaluation metric used with the objective 'binary:logistic' was changed from 'error' to 'logloss'. Explicitly set eval_metric if you'd like to restore the old behavior.\n"
     ]
    },
    {
     "name": "stderr",
     "output_type": "stream",
     "text": [
      "/opt/conda/lib/python3.7/site-packages/ipykernel_launcher.py:3: DeprecationWarning: `np.float` is a deprecated alias for the builtin `float`. To silence this warning, use `float` by itself. Doing this will not modify any behavior and is safe. If you specifically wanted the numpy scalar type, use `np.float64` here.\n",
      "Deprecated in NumPy 1.20; for more details and guidance: https://numpy.org/devdocs/release/1.20.0-notes.html#deprecations\n",
      "  This is separate from the ipykernel package so we can avoid doing imports until\n"
     ]
    },
    {
     "name": "stdout",
     "output_type": "stream",
     "text": [
      "[16:06:28] WARNING: ../src/learner.cc:1115: Starting in XGBoost 1.3.0, the default evaluation metric used with the objective 'binary:logistic' was changed from 'error' to 'logloss'. Explicitly set eval_metric if you'd like to restore the old behavior.\n",
      "[16:06:33] WARNING: ../src/learner.cc:1115: Starting in XGBoost 1.3.0, the default evaluation metric used with the objective 'binary:logistic' was changed from 'error' to 'logloss'. Explicitly set eval_metric if you'd like to restore the old behavior.\n",
      "[16:06:38] WARNING: ../src/learner.cc:1115: Starting in XGBoost 1.3.0, the default evaluation metric used with the objective 'binary:logistic' was changed from 'error' to 'logloss'. Explicitly set eval_metric if you'd like to restore the old behavior.\n",
      "[16:06:44] WARNING: ../src/learner.cc:1115: Starting in XGBoost 1.3.0, the default evaluation metric used with the objective 'binary:logistic' was changed from 'error' to 'logloss'. Explicitly set eval_metric if you'd like to restore the old behavior.\n",
      "Mean: 0.2567094537773519 Std: 0.004133625220599405\n"
     ]
    }
   ],
   "source": [
    "prc_subsample = prc1(subsample)\n",
    "\n",
    "params = {\"objective\":\"binary:logistic\", \"max_depth\":1}\n",
    "val_scores, model = xgb_feedback(nrounds=100, params=params, prc_subsample=prc_subsample)\n",
    "\n",
    "init_benchmark = score_summary(val_scores)\n",
    "\n",
    "# So this will be our initial benchmark\n",
    "print(init_benchmark)"
   ]
  },
  {
   "cell_type": "code",
   "execution_count": 30,
   "id": "a8ab5f4c",
   "metadata": {
    "execution": {
     "iopub.execute_input": "2022-03-02T16:06:48.881845Z",
     "iopub.status.busy": "2022-03-02T16:06:48.880818Z",
     "iopub.status.idle": "2022-03-02T16:06:49.419997Z",
     "shell.execute_reply": "2022-03-02T16:06:49.420511Z",
     "shell.execute_reply.started": "2022-02-20T06:04:57.763362Z"
    },
    "papermill": {
     "duration": 0.61392,
     "end_time": "2022-03-02T16:06:49.420677",
     "exception": false,
     "start_time": "2022-03-02T16:06:48.806757",
     "status": "completed"
    },
    "tags": []
   },
   "outputs": [
    {
     "data": {
      "image/png": "[encoded data removed]",
      "text/plain": [
       "<Figure size 720x504 with 1 Axes>"
      ]
     },
     "metadata": {
      "needs_background": "light"
     },
     "output_type": "display_data"
    }
   ],
   "source": [
    "matplotlib.rcParams['figure.figsize'] = [10, 7]\n",
    "ax = xgb.plot_importance(model)"
   ]
  },
  {
   "cell_type": "code",
   "execution_count": 31,
   "id": "97f8ca1a",
   "metadata": {
    "execution": {
     "iopub.execute_input": "2022-03-02T16:06:49.564539Z",
     "iopub.status.busy": "2022-03-02T16:06:49.563582Z",
     "iopub.status.idle": "2022-03-02T16:06:49.870524Z",
     "shell.execute_reply": "2022-03-02T16:06:49.871018Z",
     "shell.execute_reply.started": "2022-02-20T06:04:58.404145Z"
    },
    "papermill": {
     "duration": 0.380371,
     "end_time": "2022-03-02T16:06:49.871389",
     "exception": false,
     "start_time": "2022-03-02T16:06:49.491018",
     "status": "completed"
    },
    "tags": []
   },
   "outputs": [
    {
     "data": {
      "text/plain": [
       "<AxesSubplot:>"
      ]
     },
     "execution_count": 31,
     "metadata": {},
     "output_type": "execute_result"
    },
    {
     "data": {
      "image/png": "[encoded data removed]",
      "text/plain": [
       "<Figure size 720x504 with 1 Axes>"
      ]
     },
     "metadata": {
      "needs_background": "light"
     },
     "output_type": "display_data"
    }
   ],
   "source": [
    "subsample.ps_car_13.hist(bins=30)\n"
   ]
  },
  {
   "cell_type": "code",
   "execution_count": 32,
   "id": "565852bf",
   "metadata": {
    "execution": {
     "iopub.execute_input": "2022-03-02T16:06:50.017473Z",
     "iopub.status.busy": "2022-03-02T16:06:50.016839Z",
     "iopub.status.idle": "2022-03-02T16:06:50.285399Z",
     "shell.execute_reply": "2022-03-02T16:06:50.285985Z",
     "shell.execute_reply.started": "2022-02-20T06:04:58.692653Z"
    },
    "papermill": {
     "duration": 0.343453,
     "end_time": "2022-03-02T16:06:50.286182",
     "exception": false,
     "start_time": "2022-03-02T16:06:49.942729",
     "status": "completed"
    },
    "tags": []
   },
   "outputs": [
    {
     "data": {
      "text/plain": [
       "<AxesSubplot:>"
      ]
     },
     "execution_count": 32,
     "metadata": {},
     "output_type": "execute_result"
    },
    {
     "data": {
      "image/png": "[encoded data removed]",
      "text/plain": [
       "<Figure size 720x504 with 1 Axes>"
      ]
     },
     "metadata": {
      "needs_background": "light"
     },
     "output_type": "display_data"
    }
   ],
   "source": [
    "np.log(subsample.ps_car_13).hist(bins=30)"
   ]
  },
  {
   "cell_type": "code",
   "execution_count": 33,
   "id": "c42009a5",
   "metadata": {
    "execution": {
     "iopub.execute_input": "2022-03-02T16:06:50.434050Z",
     "iopub.status.busy": "2022-03-02T16:06:50.433369Z",
     "iopub.status.idle": "2022-03-02T16:06:51.050652Z",
     "shell.execute_reply": "2022-03-02T16:06:51.051151Z",
     "shell.execute_reply.started": "2022-02-20T06:04:58.928692Z"
    },
    "papermill": {
     "duration": 0.69253,
     "end_time": "2022-03-02T16:06:51.051336",
     "exception": false,
     "start_time": "2022-03-02T16:06:50.358806",
     "status": "completed"
    },
    "tags": []
   },
   "outputs": [
    {
     "data": {
      "text/plain": [
       "<AxesSubplot:>"
      ]
     },
     "execution_count": 33,
     "metadata": {},
     "output_type": "execute_result"
    },
    {
     "data": {
      "image/png": "[encoded data removed]",
      "text/plain": [
       "<Figure size 720x504 with 1 Axes>"
      ]
     },
     "metadata": {
      "needs_background": "light"
     },
     "output_type": "display_data"
    }
   ],
   "source": [
    "round(subsample.ps_car_13**2 * 48400).hist(bins =100)"
   ]
  },
  {
   "cell_type": "code",
   "execution_count": 34,
   "id": "7682fbe6",
   "metadata": {
    "execution": {
     "iopub.execute_input": "2022-03-02T16:06:51.205645Z",
     "iopub.status.busy": "2022-03-02T16:06:51.202075Z",
     "iopub.status.idle": "2022-03-02T16:06:51.208712Z",
     "shell.execute_reply": "2022-03-02T16:06:51.208193Z",
     "shell.execute_reply.started": "2022-02-20T06:04:59.550435Z"
    },
    "papermill": {
     "duration": 0.082595,
     "end_time": "2022-03-02T16:06:51.208865",
     "exception": false,
     "start_time": "2022-03-02T16:06:51.126270",
     "status": "completed"
    },
    "tags": []
   },
   "outputs": [],
   "source": [
    "def prc2(data):\n",
    "    data = data.copy()\n",
    "    #log transform ps_car_13\n",
    "    data['log_ps_car_13'] = np.log(data[\"ps_car_13\"])\n",
    "    #create ps_car_13 feature from the kernel link\n",
    "    #thanks to @raddar\n",
    "    data['f1_ps_car_13'] = round(subsample[\"ps_car_13\"]**2 * 48400)\n",
    "    #also log this\n",
    "    data['log_f1_ps_car_13'] = np.log(round(subsample[\"ps_car_13\"]**2 * 48400))\n",
    "    return data"
   ]
  },
  {
   "cell_type": "code",
   "execution_count": 35,
   "id": "cbe6d13d",
   "metadata": {
    "execution": {
     "iopub.execute_input": "2022-03-02T16:06:51.363617Z",
     "iopub.status.busy": "2022-03-02T16:06:51.362892Z",
     "iopub.status.idle": "2022-03-02T16:07:23.968983Z",
     "shell.execute_reply": "2022-03-02T16:07:23.969624Z",
     "shell.execute_reply.started": "2022-02-20T06:04:59.55936Z"
    },
    "papermill": {
     "duration": 32.686024,
     "end_time": "2022-03-02T16:07:23.969802",
     "exception": false,
     "start_time": "2022-03-02T16:06:51.283778",
     "status": "completed"
    },
    "tags": []
   },
   "outputs": [
    {
     "name": "stdout",
     "output_type": "stream",
     "text": [
      "[16:06:52] WARNING: ../src/learner.cc:1115: Starting in XGBoost 1.3.0, the default evaluation metric used with the objective 'binary:logistic' was changed from 'error' to 'logloss'. Explicitly set eval_metric if you'd like to restore the old behavior.\n"
     ]
    },
    {
     "name": "stderr",
     "output_type": "stream",
     "text": [
      "/opt/conda/lib/python3.7/site-packages/ipykernel_launcher.py:3: DeprecationWarning: `np.float` is a deprecated alias for the builtin `float`. To silence this warning, use `float` by itself. Doing this will not modify any behavior and is safe. If you specifically wanted the numpy scalar type, use `np.float64` here.\n",
      "Deprecated in NumPy 1.20; for more details and guidance: https://numpy.org/devdocs/release/1.20.0-notes.html#deprecations\n",
      "  This is separate from the ipykernel package so we can avoid doing imports until\n"
     ]
    },
    {
     "name": "stdout",
     "output_type": "stream",
     "text": [
      "[16:06:58] WARNING: ../src/learner.cc:1115: Starting in XGBoost 1.3.0, the default evaluation metric used with the objective 'binary:logistic' was changed from 'error' to 'logloss'. Explicitly set eval_metric if you'd like to restore the old behavior.\n",
      "[16:07:05] WARNING: ../src/learner.cc:1115: Starting in XGBoost 1.3.0, the default evaluation metric used with the objective 'binary:logistic' was changed from 'error' to 'logloss'. Explicitly set eval_metric if you'd like to restore the old behavior.\n",
      "[16:07:11] WARNING: ../src/learner.cc:1115: Starting in XGBoost 1.3.0, the default evaluation metric used with the objective 'binary:logistic' was changed from 'error' to 'logloss'. Explicitly set eval_metric if you'd like to restore the old behavior.\n",
      "[16:07:18] WARNING: ../src/learner.cc:1115: Starting in XGBoost 1.3.0, the default evaluation metric used with the objective 'binary:logistic' was changed from 'error' to 'logloss'. Explicitly set eval_metric if you'd like to restore the old behavior.\n",
      "Mean: 0.25677758334853795 Std: 0.003988407595183048\n"
     ]
    }
   ],
   "source": [
    "prc_subsample = prc2(subsample)\n",
    "\n",
    "params = {\"objective\":\"binary:logistic\", \"max_depth\":1}\n",
    "val_scores, model = xgb_feedback(nrounds=100, params=params, prc_subsample=prc_subsample)\n",
    "\n",
    "iter1_benchmark = score_summary(val_scores)\n",
    "\n",
    "# So this will be our initial benchmark\n",
    "print(iter1_benchmark)\n",
    "\n",
    "add_to_iter(iter1_benchmark, \"iter1\")"
   ]
  },
  {
   "cell_type": "code",
   "execution_count": 36,
   "id": "e6dc4771",
   "metadata": {
    "execution": {
     "iopub.execute_input": "2022-03-02T16:07:24.128859Z",
     "iopub.status.busy": "2022-03-02T16:07:24.128190Z",
     "iopub.status.idle": "2022-03-02T16:07:53.607830Z",
     "shell.execute_reply": "2022-03-02T16:07:53.607310Z",
     "shell.execute_reply.started": "2022-02-20T06:05:29.872715Z"
    },
    "papermill": {
     "duration": 29.561983,
     "end_time": "2022-03-02T16:07:53.607976",
     "exception": false,
     "start_time": "2022-03-02T16:07:24.045993",
     "status": "completed"
    },
    "tags": []
   },
   "outputs": [
    {
     "name": "stdout",
     "output_type": "stream",
     "text": [
      "[16:07:25] WARNING: ../src/learner.cc:1115: Starting in XGBoost 1.3.0, the default evaluation metric used with the objective 'binary:logistic' was changed from 'error' to 'logloss'. Explicitly set eval_metric if you'd like to restore the old behavior.\n"
     ]
    },
    {
     "name": "stderr",
     "output_type": "stream",
     "text": [
      "/opt/conda/lib/python3.7/site-packages/ipykernel_launcher.py:3: DeprecationWarning: `np.float` is a deprecated alias for the builtin `float`. To silence this warning, use `float` by itself. Doing this will not modify any behavior and is safe. If you specifically wanted the numpy scalar type, use `np.float64` here.\n",
      "Deprecated in NumPy 1.20; for more details and guidance: https://numpy.org/devdocs/release/1.20.0-notes.html#deprecations\n",
      "  This is separate from the ipykernel package so we can avoid doing imports until\n"
     ]
    },
    {
     "name": "stdout",
     "output_type": "stream",
     "text": [
      "[16:07:31] WARNING: ../src/learner.cc:1115: Starting in XGBoost 1.3.0, the default evaluation metric used with the objective 'binary:logistic' was changed from 'error' to 'logloss'. Explicitly set eval_metric if you'd like to restore the old behavior.\n",
      "[16:07:36] WARNING: ../src/learner.cc:1115: Starting in XGBoost 1.3.0, the default evaluation metric used with the objective 'binary:logistic' was changed from 'error' to 'logloss'. Explicitly set eval_metric if you'd like to restore the old behavior.\n",
      "[16:07:42] WARNING: ../src/learner.cc:1115: Starting in XGBoost 1.3.0, the default evaluation metric used with the objective 'binary:logistic' was changed from 'error' to 'logloss'. Explicitly set eval_metric if you'd like to restore the old behavior.\n",
      "[16:07:48] WARNING: ../src/learner.cc:1115: Starting in XGBoost 1.3.0, the default evaluation metric used with the objective 'binary:logistic' was changed from 'error' to 'logloss'. Explicitly set eval_metric if you'd like to restore the old behavior.\n",
      "Mean: 0.2567094537773519 Std: 0.004133625220599405\n"
     ]
    }
   ],
   "source": [
    "prc_subsample = prc2(prc1(subsample))\n",
    "\n",
    "params = {\"objective\":\"binary:logistic\", \"max_depth\":1}\n",
    "val_scores, model = xgb_feedback(nrounds=100, params=params, prc_subsample=prc_subsample)\n",
    "\n",
    "iter1_nas_benchmark = score_summary(val_scores)\n",
    "\n",
    "# So this will be our initial benchmark\n",
    "print(iter1_nas_benchmark)\n",
    "\n",
    "add_to_iter(iter1_nas_benchmark, \"iter1_na_as_neg1\")"
   ]
  },
  {
   "cell_type": "code",
   "execution_count": 37,
   "id": "d7581c7a",
   "metadata": {
    "execution": {
     "iopub.execute_input": "2022-03-02T16:07:53.770795Z",
     "iopub.status.busy": "2022-03-02T16:07:53.769772Z",
     "iopub.status.idle": "2022-03-02T16:07:53.775545Z",
     "shell.execute_reply": "2022-03-02T16:07:53.776041Z",
     "shell.execute_reply.started": "2022-02-20T06:05:55.790556Z"
    },
    "papermill": {
     "duration": 0.088943,
     "end_time": "2022-03-02T16:07:53.776230",
     "exception": false,
     "start_time": "2022-03-02T16:07:53.687287",
     "status": "completed"
    },
    "tags": []
   },
   "outputs": [
    {
     "data": {
      "text/plain": [
       "defaultdict(None,\n",
       "            {'iter1': 'Mean: 0.25677758334853795 Std: 0.003988407595183048',\n",
       "             'iter1_na_as_neg1': 'Mean: 0.2567094537773519 Std: 0.004133625220599405'})"
      ]
     },
     "execution_count": 37,
     "metadata": {},
     "output_type": "execute_result"
    }
   ],
   "source": [
    "iter_performances\n"
   ]
  },
  {
   "cell_type": "code",
   "execution_count": 38,
   "id": "2d913de2",
   "metadata": {
    "execution": {
     "iopub.execute_input": "2022-03-02T16:07:53.941639Z",
     "iopub.status.busy": "2022-03-02T16:07:53.938896Z",
     "iopub.status.idle": "2022-03-02T16:07:53.943362Z",
     "shell.execute_reply": "2022-03-02T16:07:53.943805Z",
     "shell.execute_reply.started": "2022-02-20T06:05:55.798099Z"
    },
    "papermill": {
     "duration": 0.087982,
     "end_time": "2022-03-02T16:07:53.943984",
     "exception": false,
     "start_time": "2022-03-02T16:07:53.856002",
     "status": "completed"
    },
    "tags": []
   },
   "outputs": [],
   "source": [
    "def prc3(data):\n",
    "    data= data.copy()\n",
    "    data[\"number_of_nan\"] = data.isnull().sum(axis=1)\n",
    "    return data"
   ]
  },
  {
   "cell_type": "code",
   "execution_count": 39,
   "id": "dfe61e40",
   "metadata": {
    "execution": {
     "iopub.execute_input": "2022-03-02T16:07:54.106636Z",
     "iopub.status.busy": "2022-03-02T16:07:54.105677Z",
     "iopub.status.idle": "2022-03-02T16:08:23.652572Z",
     "shell.execute_reply": "2022-03-02T16:08:23.653135Z",
     "shell.execute_reply.started": "2022-02-20T06:05:55.805725Z"
    },
    "papermill": {
     "duration": 29.629904,
     "end_time": "2022-03-02T16:08:23.653312",
     "exception": false,
     "start_time": "2022-03-02T16:07:54.023408",
     "status": "completed"
    },
    "tags": []
   },
   "outputs": [
    {
     "name": "stdout",
     "output_type": "stream",
     "text": [
      "[16:07:55] WARNING: ../src/learner.cc:1115: Starting in XGBoost 1.3.0, the default evaluation metric used with the objective 'binary:logistic' was changed from 'error' to 'logloss'. Explicitly set eval_metric if you'd like to restore the old behavior.\n"
     ]
    },
    {
     "name": "stderr",
     "output_type": "stream",
     "text": [
      "/opt/conda/lib/python3.7/site-packages/ipykernel_launcher.py:3: DeprecationWarning: `np.float` is a deprecated alias for the builtin `float`. To silence this warning, use `float` by itself. Doing this will not modify any behavior and is safe. If you specifically wanted the numpy scalar type, use `np.float64` here.\n",
      "Deprecated in NumPy 1.20; for more details and guidance: https://numpy.org/devdocs/release/1.20.0-notes.html#deprecations\n",
      "  This is separate from the ipykernel package so we can avoid doing imports until\n"
     ]
    },
    {
     "name": "stdout",
     "output_type": "stream",
     "text": [
      "[16:08:01] WARNING: ../src/learner.cc:1115: Starting in XGBoost 1.3.0, the default evaluation metric used with the objective 'binary:logistic' was changed from 'error' to 'logloss'. Explicitly set eval_metric if you'd like to restore the old behavior.\n",
      "[16:08:06] WARNING: ../src/learner.cc:1115: Starting in XGBoost 1.3.0, the default evaluation metric used with the objective 'binary:logistic' was changed from 'error' to 'logloss'. Explicitly set eval_metric if you'd like to restore the old behavior.\n",
      "[16:08:12] WARNING: ../src/learner.cc:1115: Starting in XGBoost 1.3.0, the default evaluation metric used with the objective 'binary:logistic' was changed from 'error' to 'logloss'. Explicitly set eval_metric if you'd like to restore the old behavior.\n",
      "[16:08:18] WARNING: ../src/learner.cc:1115: Starting in XGBoost 1.3.0, the default evaluation metric used with the objective 'binary:logistic' was changed from 'error' to 'logloss'. Explicitly set eval_metric if you'd like to restore the old behavior.\n",
      "Mean: 0.2567568324267101 Std: 0.003508108813438011\n"
     ]
    }
   ],
   "source": [
    "prc_subsample = prc3(subsample)\n",
    "\n",
    "params = {\"objective\":\"binary:logistic\", \"max_depth\":1}\n",
    "val_scores, model = xgb_feedback(nrounds=100, params=params, prc_subsample=prc_subsample)\n",
    "\n",
    "iter2 = score_summary(val_scores)\n",
    "\n",
    "# So this will be our initial benchmark\n",
    "print(iter2)\n",
    "\n",
    "add_to_iter(iter2, \"iter2\")"
   ]
  },
  {
   "cell_type": "code",
   "execution_count": 40,
   "id": "c19a521d",
   "metadata": {
    "execution": {
     "iopub.execute_input": "2022-03-02T16:08:23.827424Z",
     "iopub.status.busy": "2022-03-02T16:08:23.826640Z",
     "iopub.status.idle": "2022-03-02T16:08:23.832534Z",
     "shell.execute_reply": "2022-03-02T16:08:23.832002Z",
     "shell.execute_reply.started": "2022-02-20T06:06:22.945361Z"
    },
    "papermill": {
     "duration": 0.094948,
     "end_time": "2022-03-02T16:08:23.832686",
     "exception": false,
     "start_time": "2022-03-02T16:08:23.737738",
     "status": "completed"
    },
    "tags": []
   },
   "outputs": [
    {
     "data": {
      "text/plain": [
       "defaultdict(None,\n",
       "            {'iter1': 'Mean: 0.25677758334853795 Std: 0.003988407595183048',\n",
       "             'iter1_na_as_neg1': 'Mean: 0.2567094537773519 Std: 0.004133625220599405',\n",
       "             'iter2': 'Mean: 0.2567568324267101 Std: 0.003508108813438011'})"
      ]
     },
     "execution_count": 40,
     "metadata": {},
     "output_type": "execute_result"
    }
   ],
   "source": [
    "iter_performances"
   ]
  },
  {
   "cell_type": "code",
   "execution_count": 41,
   "id": "ff87c4d4",
   "metadata": {
    "execution": {
     "iopub.execute_input": "2022-03-02T16:08:24.009203Z",
     "iopub.status.busy": "2022-03-02T16:08:24.008521Z",
     "iopub.status.idle": "2022-03-02T16:08:24.606463Z",
     "shell.execute_reply": "2022-03-02T16:08:24.607121Z",
     "shell.execute_reply.started": "2022-02-20T06:06:22.952412Z"
    },
    "papermill": {
     "duration": 0.688795,
     "end_time": "2022-03-02T16:08:24.607373",
     "exception": false,
     "start_time": "2022-03-02T16:08:23.918578",
     "status": "completed"
    },
    "tags": []
   },
   "outputs": [
    {
     "data": {
      "image/png": "[encoded data removed]",
      "text/plain": [
       "<Figure size 720x504 with 1 Axes>"
      ]
     },
     "metadata": {
      "needs_background": "light"
     },
     "output_type": "display_data"
    }
   ],
   "source": [
    "plot_model(model)"
   ]
  },
  {
   "cell_type": "code",
   "execution_count": 42,
   "id": "d4054432",
   "metadata": {
    "execution": {
     "iopub.execute_input": "2022-03-02T16:08:24.799912Z",
     "iopub.status.busy": "2022-03-02T16:08:24.799128Z",
     "iopub.status.idle": "2022-03-02T16:08:24.803739Z",
     "shell.execute_reply": "2022-03-02T16:08:24.802887Z",
     "shell.execute_reply.started": "2022-02-20T06:06:23.57421Z"
    },
    "papermill": {
     "duration": 0.104418,
     "end_time": "2022-03-02T16:08:24.803920",
     "exception": false,
     "start_time": "2022-03-02T16:08:24.699502",
     "status": "completed"
    },
    "tags": []
   },
   "outputs": [
    {
     "name": "stdout",
     "output_type": "stream",
     "text": [
      "Federative Unit (F):  26\n",
      "Municipality (M):  75\n"
     ]
    }
   ],
   "source": [
    "# thanks to Pascal Nagel's kernel\n",
    "def recon(reg):\n",
    "    if np.isnan(reg):\n",
    "        return reg\n",
    "    else:\n",
    "        integer = int(np.round((40*reg)**2)) # gives 2060 for our example\n",
    "        for f in range(28):\n",
    "            if (integer - f) % 27 == 0:\n",
    "                F = f\n",
    "        M = (integer - F)//27\n",
    "        return F, M\n",
    "# Using the above example to test\n",
    "ps_reg_03_example = 1.1321312468057179\n",
    "print(\"Federative Unit (F): \", recon(ps_reg_03_example)[0])\n",
    "print(\"Municipality (M): \", recon(ps_reg_03_example)[1])"
   ]
  },
  {
   "cell_type": "code",
   "execution_count": 43,
   "id": "4974c260",
   "metadata": {
    "execution": {
     "iopub.execute_input": "2022-03-02T16:08:25.010384Z",
     "iopub.status.busy": "2022-03-02T16:08:25.005832Z",
     "iopub.status.idle": "2022-03-02T16:08:25.012783Z",
     "shell.execute_reply": "2022-03-02T16:08:25.013440Z",
     "shell.execute_reply.started": "2022-02-20T06:06:23.585341Z"
    },
    "papermill": {
     "duration": 0.115971,
     "end_time": "2022-03-02T16:08:25.013613",
     "exception": false,
     "start_time": "2022-03-02T16:08:24.897642",
     "status": "completed"
    },
    "tags": []
   },
   "outputs": [],
   "source": [
    "def prc4(data):\n",
    "    data = data.copy()\n",
    "    data[\"f1_ps_car_15\"] = 1 / np.exp(data[\"ps_car_15\"])\n",
    "    data[\"f2_ps_car_15\"] = (data[\"ps_car_15\"])**2 \n",
    "    data['ps_reg_F'] = data['ps_reg_03'].apply(lambda x: recon(x) if np.isnan(x) else recon(x)[0])\n",
    "    data['ps_reg_M'] = data['ps_reg_03'].apply(lambda x: recon(x) if np.isnan(x) else recon(x)[1])\n",
    "    return data"
   ]
  },
  {
   "cell_type": "code",
   "execution_count": 44,
   "id": "765742b3",
   "metadata": {
    "execution": {
     "iopub.execute_input": "2022-03-02T16:08:25.200980Z",
     "iopub.status.busy": "2022-03-02T16:08:25.199655Z",
     "iopub.status.idle": "2022-03-02T16:09:05.634647Z",
     "shell.execute_reply": "2022-03-02T16:09:05.634115Z",
     "shell.execute_reply.started": "2022-02-20T06:06:23.594023Z"
    },
    "papermill": {
     "duration": 40.532593,
     "end_time": "2022-03-02T16:09:05.634799",
     "exception": false,
     "start_time": "2022-03-02T16:08:25.102206",
     "status": "completed"
    },
    "tags": []
   },
   "outputs": [
    {
     "name": "stdout",
     "output_type": "stream",
     "text": [
      "[16:08:35] WARNING: ../src/learner.cc:1115: Starting in XGBoost 1.3.0, the default evaluation metric used with the objective 'binary:logistic' was changed from 'error' to 'logloss'. Explicitly set eval_metric if you'd like to restore the old behavior.\n"
     ]
    },
    {
     "name": "stderr",
     "output_type": "stream",
     "text": [
      "/opt/conda/lib/python3.7/site-packages/ipykernel_launcher.py:3: DeprecationWarning: `np.float` is a deprecated alias for the builtin `float`. To silence this warning, use `float` by itself. Doing this will not modify any behavior and is safe. If you specifically wanted the numpy scalar type, use `np.float64` here.\n",
      "Deprecated in NumPy 1.20; for more details and guidance: https://numpy.org/devdocs/release/1.20.0-notes.html#deprecations\n",
      "  This is separate from the ipykernel package so we can avoid doing imports until\n"
     ]
    },
    {
     "name": "stdout",
     "output_type": "stream",
     "text": [
      "[16:08:41] WARNING: ../src/learner.cc:1115: Starting in XGBoost 1.3.0, the default evaluation metric used with the objective 'binary:logistic' was changed from 'error' to 'logloss'. Explicitly set eval_metric if you'd like to restore the old behavior.\n",
      "[16:08:47] WARNING: ../src/learner.cc:1115: Starting in XGBoost 1.3.0, the default evaluation metric used with the objective 'binary:logistic' was changed from 'error' to 'logloss'. Explicitly set eval_metric if you'd like to restore the old behavior.\n",
      "[16:08:53] WARNING: ../src/learner.cc:1115: Starting in XGBoost 1.3.0, the default evaluation metric used with the objective 'binary:logistic' was changed from 'error' to 'logloss'. Explicitly set eval_metric if you'd like to restore the old behavior.\n",
      "[16:09:00] WARNING: ../src/learner.cc:1115: Starting in XGBoost 1.3.0, the default evaluation metric used with the objective 'binary:logistic' was changed from 'error' to 'logloss'. Explicitly set eval_metric if you'd like to restore the old behavior.\n",
      "Mean: 0.25671374981931094 Std: 0.004019389058340719\n"
     ]
    }
   ],
   "source": [
    "prc_subsample = prc4(subsample)\n",
    "\n",
    "params = {\"objective\":\"binary:logistic\", \"max_depth\":1}\n",
    "val_scores, model = xgb_feedback(nrounds=100, params=params, prc_subsample=prc_subsample)\n",
    "\n",
    "iter3 = score_summary(val_scores)\n",
    "\n",
    "# So this will be our initial benchmark\n",
    "print(iter3)\n",
    "\n",
    "add_to_iter(iter3, \"iter3\")"
   ]
  },
  {
   "cell_type": "code",
   "execution_count": 45,
   "id": "3d30e1b8",
   "metadata": {
    "execution": {
     "iopub.execute_input": "2022-03-02T16:09:05.816204Z",
     "iopub.status.busy": "2022-03-02T16:09:05.815362Z",
     "iopub.status.idle": "2022-03-02T16:09:05.818136Z",
     "shell.execute_reply": "2022-03-02T16:09:05.818607Z",
     "shell.execute_reply.started": "2022-02-20T06:07:01.740239Z"
    },
    "papermill": {
     "duration": 0.095266,
     "end_time": "2022-03-02T16:09:05.818771",
     "exception": false,
     "start_time": "2022-03-02T16:09:05.723505",
     "status": "completed"
    },
    "tags": []
   },
   "outputs": [
    {
     "data": {
      "text/plain": [
       "defaultdict(None,\n",
       "            {'iter1': 'Mean: 0.25677758334853795 Std: 0.003988407595183048',\n",
       "             'iter1_na_as_neg1': 'Mean: 0.2567094537773519 Std: 0.004133625220599405',\n",
       "             'iter2': 'Mean: 0.2567568324267101 Std: 0.003508108813438011',\n",
       "             'iter3': 'Mean: 0.25671374981931094 Std: 0.004019389058340719'})"
      ]
     },
     "execution_count": 45,
     "metadata": {},
     "output_type": "execute_result"
    }
   ],
   "source": [
    "iter_performances"
   ]
  },
  {
   "cell_type": "code",
   "execution_count": 46,
   "id": "6257027c",
   "metadata": {
    "execution": {
     "iopub.execute_input": "2022-03-02T16:09:05.998794Z",
     "iopub.status.busy": "2022-03-02T16:09:05.998139Z",
     "iopub.status.idle": "2022-03-02T16:09:06.569698Z",
     "shell.execute_reply": "2022-03-02T16:09:06.570212Z",
     "shell.execute_reply.started": "2022-02-20T06:07:01.747281Z"
    },
    "papermill": {
     "duration": 0.663213,
     "end_time": "2022-03-02T16:09:06.570385",
     "exception": false,
     "start_time": "2022-03-02T16:09:05.907172",
     "status": "completed"
    },
    "tags": []
   },
   "outputs": [
    {
     "data": {
      "image/png": "[encoded data removed]",
      "text/plain": [
       "<Figure size 720x504 with 1 Axes>"
      ]
     },
     "metadata": {
      "needs_background": "light"
     },
     "output_type": "display_data"
    }
   ],
   "source": [
    "plot_model(model)"
   ]
  },
  {
   "cell_type": "code",
   "execution_count": 47,
   "id": "06ca2733",
   "metadata": {
    "execution": {
     "iopub.execute_input": "2022-03-02T16:09:06.769062Z",
     "iopub.status.busy": "2022-03-02T16:09:06.768036Z",
     "iopub.status.idle": "2022-03-02T16:09:06.827683Z",
     "shell.execute_reply": "2022-03-02T16:09:06.826903Z",
     "shell.execute_reply.started": "2022-02-20T06:07:02.36116Z"
    },
    "papermill": {
     "duration": 0.167563,
     "end_time": "2022-03-02T16:09:06.827847",
     "exception": false,
     "start_time": "2022-03-02T16:09:06.660284",
     "status": "completed"
    },
    "tags": []
   },
   "outputs": [
    {
     "data": {
      "text/plain": [
       "0"
      ]
     },
     "execution_count": 47,
     "metadata": {},
     "output_type": "execute_result"
    }
   ],
   "source": [
    "sum(subsample[[\"ps_ind_06_bin\",\"ps_ind_07_bin\", \"ps_ind_08_bin\", \"ps_ind_09_bin\"]].sum(axis =1) > 2)"
   ]
  },
  {
   "cell_type": "code",
   "execution_count": null,
   "id": "805d7cba",
   "metadata": {
    "papermill": {
     "duration": 0.088408,
     "end_time": "2022-03-02T16:09:07.005841",
     "exception": false,
     "start_time": "2022-03-02T16:09:06.917433",
     "status": "completed"
    },
    "tags": []
   },
   "outputs": [],
   "source": []
  },
  {
   "cell_type": "code",
   "execution_count": 48,
   "id": "7ea4c8a8",
   "metadata": {
    "execution": {
     "iopub.execute_input": "2022-03-02T16:09:07.187517Z",
     "iopub.status.busy": "2022-03-02T16:09:07.186526Z",
     "iopub.status.idle": "2022-03-02T16:09:07.191567Z",
     "shell.execute_reply": "2022-03-02T16:09:07.192195Z",
     "shell.execute_reply.started": "2022-02-20T06:07:02.41303Z"
    },
    "papermill": {
     "duration": 0.097384,
     "end_time": "2022-03-02T16:09:07.192375",
     "exception": false,
     "start_time": "2022-03-02T16:09:07.094991",
     "status": "completed"
    },
    "tags": []
   },
   "outputs": [],
   "source": [
    "def prc5(data):\n",
    "    data = data.copy()\n",
    "    arr = np.array(data[[\"ps_ind_06_bin\",\"ps_ind_07_bin\", \"ps_ind_08_bin\", \"ps_ind_09_bin\"]])\n",
    "    data[\"ps_ind_bin_6789\"] = arr.dot(np.array([6, 7, 8, 9]))\n",
    "    return data"
   ]
  },
  {
   "cell_type": "code",
   "execution_count": 49,
   "id": "ff8bd11c",
   "metadata": {
    "execution": {
     "iopub.execute_input": "2022-03-02T16:09:07.375046Z",
     "iopub.status.busy": "2022-03-02T16:09:07.374110Z",
     "iopub.status.idle": "2022-03-02T16:09:36.710282Z",
     "shell.execute_reply": "2022-03-02T16:09:36.711019Z",
     "shell.execute_reply.started": "2022-02-20T06:07:02.419152Z"
    },
    "papermill": {
     "duration": 29.429963,
     "end_time": "2022-03-02T16:09:36.711258",
     "exception": false,
     "start_time": "2022-03-02T16:09:07.281295",
     "status": "completed"
    },
    "tags": []
   },
   "outputs": [
    {
     "name": "stdout",
     "output_type": "stream",
     "text": [
      "[16:09:08] WARNING: ../src/learner.cc:1115: Starting in XGBoost 1.3.0, the default evaluation metric used with the objective 'binary:logistic' was changed from 'error' to 'logloss'. Explicitly set eval_metric if you'd like to restore the old behavior.\n"
     ]
    },
    {
     "name": "stderr",
     "output_type": "stream",
     "text": [
      "/opt/conda/lib/python3.7/site-packages/ipykernel_launcher.py:3: DeprecationWarning: `np.float` is a deprecated alias for the builtin `float`. To silence this warning, use `float` by itself. Doing this will not modify any behavior and is safe. If you specifically wanted the numpy scalar type, use `np.float64` here.\n",
      "Deprecated in NumPy 1.20; for more details and guidance: https://numpy.org/devdocs/release/1.20.0-notes.html#deprecations\n",
      "  This is separate from the ipykernel package so we can avoid doing imports until\n"
     ]
    },
    {
     "name": "stdout",
     "output_type": "stream",
     "text": [
      "[16:09:14] WARNING: ../src/learner.cc:1115: Starting in XGBoost 1.3.0, the default evaluation metric used with the objective 'binary:logistic' was changed from 'error' to 'logloss'. Explicitly set eval_metric if you'd like to restore the old behavior.\n",
      "[16:09:19] WARNING: ../src/learner.cc:1115: Starting in XGBoost 1.3.0, the default evaluation metric used with the objective 'binary:logistic' was changed from 'error' to 'logloss'. Explicitly set eval_metric if you'd like to restore the old behavior.\n",
      "[16:09:25] WARNING: ../src/learner.cc:1115: Starting in XGBoost 1.3.0, the default evaluation metric used with the objective 'binary:logistic' was changed from 'error' to 'logloss'. Explicitly set eval_metric if you'd like to restore the old behavior.\n",
      "[16:09:32] WARNING: ../src/learner.cc:1115: Starting in XGBoost 1.3.0, the default evaluation metric used with the objective 'binary:logistic' was changed from 'error' to 'logloss'. Explicitly set eval_metric if you'd like to restore the old behavior.\n",
      "Mean: 0.25677758334853795 Std: 0.003988407595183048\n"
     ]
    }
   ],
   "source": [
    "prc_subsample = prc5(subsample)\n",
    "\n",
    "params = {\"objective\":\"binary:logistic\", \"max_depth\":1}\n",
    "val_scores, model = xgb_feedback(nrounds=100, params=params, prc_subsample=prc_subsample)\n",
    "\n",
    "iter4 = score_summary(val_scores)\n",
    "\n",
    "# So this will be our initial benchmark\n",
    "print(iter4)\n",
    "\n",
    "add_to_iter(iter4, \"iter4\")"
   ]
  },
  {
   "cell_type": "code",
   "execution_count": 50,
   "id": "bc9e62cb",
   "metadata": {
    "execution": {
     "iopub.execute_input": "2022-03-02T16:09:36.904074Z",
     "iopub.status.busy": "2022-03-02T16:09:36.903404Z",
     "iopub.status.idle": "2022-03-02T16:09:36.905898Z",
     "shell.execute_reply": "2022-03-02T16:09:36.906419Z",
     "shell.execute_reply.started": "2022-02-20T06:07:30.106622Z"
    },
    "papermill": {
     "duration": 0.101021,
     "end_time": "2022-03-02T16:09:36.906594",
     "exception": false,
     "start_time": "2022-03-02T16:09:36.805573",
     "status": "completed"
    },
    "tags": []
   },
   "outputs": [
    {
     "data": {
      "text/plain": [
       "defaultdict(None,\n",
       "            {'iter1': 'Mean: 0.25677758334853795 Std: 0.003988407595183048',\n",
       "             'iter1_na_as_neg1': 'Mean: 0.2567094537773519 Std: 0.004133625220599405',\n",
       "             'iter2': 'Mean: 0.2567568324267101 Std: 0.003508108813438011',\n",
       "             'iter3': 'Mean: 0.25671374981931094 Std: 0.004019389058340719',\n",
       "             'iter4': 'Mean: 0.25677758334853795 Std: 0.003988407595183048'})"
      ]
     },
     "execution_count": 50,
     "metadata": {},
     "output_type": "execute_result"
    }
   ],
   "source": [
    "iter_performances"
   ]
  },
  {
   "cell_type": "code",
   "execution_count": 51,
   "id": "97666c0a",
   "metadata": {
    "execution": {
     "iopub.execute_input": "2022-03-02T16:09:37.096392Z",
     "iopub.status.busy": "2022-03-02T16:09:37.095724Z",
     "iopub.status.idle": "2022-03-02T16:09:37.664802Z",
     "shell.execute_reply": "2022-03-02T16:09:37.665296Z",
     "shell.execute_reply.started": "2022-02-20T06:07:30.11325Z"
    },
    "papermill": {
     "duration": 0.66528,
     "end_time": "2022-03-02T16:09:37.665472",
     "exception": false,
     "start_time": "2022-03-02T16:09:37.000192",
     "status": "completed"
    },
    "tags": []
   },
   "outputs": [
    {
     "data": {
      "image/png": "[encoded data removed]",
      "text/plain": [
       "<Figure size 720x504 with 1 Axes>"
      ]
     },
     "metadata": {
      "needs_background": "light"
     },
     "output_type": "display_data"
    }
   ],
   "source": [
    "plot_model(model)"
   ]
  },
  {
   "cell_type": "code",
   "execution_count": 52,
   "id": "1fd0f856",
   "metadata": {
    "execution": {
     "iopub.execute_input": "2022-03-02T16:09:37.862454Z",
     "iopub.status.busy": "2022-03-02T16:09:37.861833Z",
     "iopub.status.idle": "2022-03-02T16:09:47.549322Z",
     "shell.execute_reply": "2022-03-02T16:09:47.548680Z",
     "shell.execute_reply.started": "2022-02-20T06:07:30.70678Z"
    },
    "papermill": {
     "duration": 9.783864,
     "end_time": "2022-03-02T16:09:47.549482",
     "exception": false,
     "start_time": "2022-03-02T16:09:37.765618",
     "status": "completed"
    },
    "tags": []
   },
   "outputs": [],
   "source": [
    "prc_subsample = prc5(prc4(prc3(prc2(subsample))))"
   ]
  },
  {
   "cell_type": "code",
   "execution_count": 53,
   "id": "878671bd",
   "metadata": {
    "execution": {
     "iopub.execute_input": "2022-03-02T16:09:47.749951Z",
     "iopub.status.busy": "2022-03-02T16:09:47.749260Z",
     "iopub.status.idle": "2022-03-02T16:10:22.533246Z",
     "shell.execute_reply": "2022-03-02T16:10:22.533987Z",
     "shell.execute_reply.started": "2022-02-20T06:07:39.60634Z"
    },
    "papermill": {
     "duration": 34.889547,
     "end_time": "2022-03-02T16:10:22.534230",
     "exception": false,
     "start_time": "2022-03-02T16:09:47.644683",
     "status": "completed"
    },
    "tags": []
   },
   "outputs": [
    {
     "name": "stdout",
     "output_type": "stream",
     "text": [
      "[16:09:48] WARNING: ../src/learner.cc:1115: Starting in XGBoost 1.3.0, the default evaluation metric used with the objective 'binary:logistic' was changed from 'error' to 'logloss'. Explicitly set eval_metric if you'd like to restore the old behavior.\n"
     ]
    },
    {
     "name": "stderr",
     "output_type": "stream",
     "text": [
      "/opt/conda/lib/python3.7/site-packages/ipykernel_launcher.py:3: DeprecationWarning: `np.float` is a deprecated alias for the builtin `float`. To silence this warning, use `float` by itself. Doing this will not modify any behavior and is safe. If you specifically wanted the numpy scalar type, use `np.float64` here.\n",
      "Deprecated in NumPy 1.20; for more details and guidance: https://numpy.org/devdocs/release/1.20.0-notes.html#deprecations\n",
      "  This is separate from the ipykernel package so we can avoid doing imports until\n"
     ]
    },
    {
     "name": "stdout",
     "output_type": "stream",
     "text": [
      "[16:09:56] WARNING: ../src/learner.cc:1115: Starting in XGBoost 1.3.0, the default evaluation metric used with the objective 'binary:logistic' was changed from 'error' to 'logloss'. Explicitly set eval_metric if you'd like to restore the old behavior.\n",
      "[16:10:03] WARNING: ../src/learner.cc:1115: Starting in XGBoost 1.3.0, the default evaluation metric used with the objective 'binary:logistic' was changed from 'error' to 'logloss'. Explicitly set eval_metric if you'd like to restore the old behavior.\n",
      "[16:10:10] WARNING: ../src/learner.cc:1115: Starting in XGBoost 1.3.0, the default evaluation metric used with the objective 'binary:logistic' was changed from 'error' to 'logloss'. Explicitly set eval_metric if you'd like to restore the old behavior.\n",
      "[16:10:16] WARNING: ../src/learner.cc:1115: Starting in XGBoost 1.3.0, the default evaluation metric used with the objective 'binary:logistic' was changed from 'error' to 'logloss'. Explicitly set eval_metric if you'd like to restore the old behavior.\n",
      "Mean: 0.25681230577824243 Std: 0.0035400716181171847\n"
     ]
    }
   ],
   "source": [
    "params = {\"objective\":\"binary:logistic\", \"max_depth\":1}\n",
    "val_scores, model = xgb_feedback(nrounds=100, params=params, prc_subsample=prc_subsample)\n",
    "\n",
    "mid_score = score_summary(val_scores)\n",
    "\n",
    "# So this will be our initial benchmark\n",
    "print(mid_score)\n",
    "\n",
    "add_to_iter(mid_score, \"mid_way_score\")"
   ]
  },
  {
   "cell_type": "code",
   "execution_count": 54,
   "id": "ab6f81e3",
   "metadata": {
    "execution": {
     "iopub.execute_input": "2022-03-02T16:10:22.732826Z",
     "iopub.status.busy": "2022-03-02T16:10:22.731872Z",
     "iopub.status.idle": "2022-03-02T16:10:22.737345Z",
     "shell.execute_reply": "2022-03-02T16:10:22.737901Z",
     "shell.execute_reply.started": "2022-02-20T06:08:10.631397Z"
    },
    "papermill": {
     "duration": 0.106349,
     "end_time": "2022-03-02T16:10:22.738059",
     "exception": false,
     "start_time": "2022-03-02T16:10:22.631710",
     "status": "completed"
    },
    "tags": []
   },
   "outputs": [
    {
     "data": {
      "text/plain": [
       "defaultdict(None,\n",
       "            {'iter1': 'Mean: 0.25677758334853795 Std: 0.003988407595183048',\n",
       "             'iter1_na_as_neg1': 'Mean: 0.2567094537773519 Std: 0.004133625220599405',\n",
       "             'iter2': 'Mean: 0.2567568324267101 Std: 0.003508108813438011',\n",
       "             'iter3': 'Mean: 0.25671374981931094 Std: 0.004019389058340719',\n",
       "             'iter4': 'Mean: 0.25677758334853795 Std: 0.003988407595183048',\n",
       "             'mid_way_score': 'Mean: 0.25681230577824243 Std: 0.0035400716181171847'})"
      ]
     },
     "execution_count": 54,
     "metadata": {},
     "output_type": "execute_result"
    }
   ],
   "source": [
    "iter_performances"
   ]
  },
  {
   "cell_type": "code",
   "execution_count": 55,
   "id": "c5da8318",
   "metadata": {
    "execution": {
     "iopub.execute_input": "2022-03-02T16:10:22.935517Z",
     "iopub.status.busy": "2022-03-02T16:10:22.934533Z",
     "iopub.status.idle": "2022-03-02T16:10:23.540526Z",
     "shell.execute_reply": "2022-03-02T16:10:23.541023Z",
     "shell.execute_reply.started": "2022-02-20T06:08:10.638906Z"
    },
    "papermill": {
     "duration": 0.706252,
     "end_time": "2022-03-02T16:10:23.541242",
     "exception": false,
     "start_time": "2022-03-02T16:10:22.834990",
     "status": "completed"
    },
    "tags": []
   },
   "outputs": [
    {
     "data": {
      "image/png": "[encoded data removed]",
      "text/plain": [
       "<Figure size 720x504 with 1 Axes>"
      ]
     },
     "metadata": {
      "needs_background": "light"
     },
     "output_type": "display_data"
    }
   ],
   "source": [
    "plot_model(model)"
   ]
  },
  {
   "cell_type": "code",
   "execution_count": 56,
   "id": "cc238a8b",
   "metadata": {
    "execution": {
     "iopub.execute_input": "2022-03-02T16:10:23.745461Z",
     "iopub.status.busy": "2022-03-02T16:10:23.744810Z",
     "iopub.status.idle": "2022-03-02T16:10:23.749184Z",
     "shell.execute_reply": "2022-03-02T16:10:23.749892Z",
     "shell.execute_reply.started": "2022-02-20T06:08:11.208325Z"
    },
    "papermill": {
     "duration": 0.109141,
     "end_time": "2022-03-02T16:10:23.750131",
     "exception": false,
     "start_time": "2022-03-02T16:10:23.640990",
     "status": "completed"
    },
    "tags": []
   },
   "outputs": [],
   "source": [
    "def midway_prc(data):return prc5(prc4(prc3(prc2(data))))"
   ]
  },
  {
   "cell_type": "code",
   "execution_count": 57,
   "id": "caa92d32",
   "metadata": {
    "execution": {
     "iopub.execute_input": "2022-03-02T16:10:23.971891Z",
     "iopub.status.busy": "2022-03-02T16:10:23.971258Z",
     "iopub.status.idle": "2022-03-02T16:10:43.268321Z",
     "shell.execute_reply": "2022-03-02T16:10:43.267455Z",
     "shell.execute_reply.started": "2022-02-20T06:08:11.214971Z"
    },
    "papermill": {
     "duration": 19.400816,
     "end_time": "2022-03-02T16:10:43.268513",
     "exception": false,
     "start_time": "2022-03-02T16:10:23.867697",
     "status": "completed"
    },
    "tags": []
   },
   "outputs": [],
   "source": [
    "data = midway_prc(train)"
   ]
  },
  {
   "cell_type": "code",
   "execution_count": 58,
   "id": "3f7db707",
   "metadata": {
    "execution": {
     "iopub.execute_input": "2022-03-02T16:10:43.477151Z",
     "iopub.status.busy": "2022-03-02T16:10:43.476437Z",
     "iopub.status.idle": "2022-03-02T16:10:59.117058Z",
     "shell.execute_reply": "2022-03-02T16:10:59.116497Z",
     "shell.execute_reply.started": "2022-02-20T06:08:28.250329Z"
    },
    "papermill": {
     "duration": 15.748684,
     "end_time": "2022-03-02T16:10:59.117264",
     "exception": false,
     "start_time": "2022-03-02T16:10:43.368580",
     "status": "completed"
    },
    "tags": []
   },
   "outputs": [],
   "source": [
    "sample=pd.read_csv('../input/train-test-sample-submission/sample_submission.csv')"
   ]
  },
  {
   "cell_type": "code",
   "execution_count": 59,
   "id": "32906645",
   "metadata": {
    "execution": {
     "iopub.execute_input": "2022-03-02T16:10:59.323993Z",
     "iopub.status.busy": "2022-03-02T16:10:59.323356Z",
     "iopub.status.idle": "2022-03-02T16:10:59.328818Z",
     "shell.execute_reply": "2022-03-02T16:10:59.328315Z",
     "shell.execute_reply.started": "2022-02-20T06:08:41.462552Z"
    },
    "papermill": {
     "duration": 0.112457,
     "end_time": "2022-03-02T16:10:59.328962",
     "exception": false,
     "start_time": "2022-03-02T16:10:59.216505",
     "status": "completed"
    },
    "tags": []
   },
   "outputs": [
    {
     "data": {
      "text/html": [
       "<div>\n",
       "<style scoped>\n",
       "    .dataframe tbody tr th:only-of-type {\n",
       "        vertical-align: middle;\n",
       "    }\n",
       "\n",
       "    .dataframe tbody tr th {\n",
       "        vertical-align: top;\n",
       "    }\n",
       "\n",
       "    .dataframe thead th {\n",
       "        text-align: right;\n",
       "    }\n",
       "</style>\n",
       "<table border=\"1\" class=\"dataframe\">\n",
       "  <thead>\n",
       "    <tr style=\"text-align: right;\">\n",
       "      <th></th>\n",
       "      <th>click_id</th>\n",
       "      <th>is_attributed</th>\n",
       "    </tr>\n",
       "  </thead>\n",
       "  <tbody>\n",
       "    <tr>\n",
       "      <th>0</th>\n",
       "      <td>0</td>\n",
       "      <td>0</td>\n",
       "    </tr>\n",
       "    <tr>\n",
       "      <th>1</th>\n",
       "      <td>1</td>\n",
       "      <td>0</td>\n",
       "    </tr>\n",
       "    <tr>\n",
       "      <th>2</th>\n",
       "      <td>2</td>\n",
       "      <td>0</td>\n",
       "    </tr>\n",
       "    <tr>\n",
       "      <th>3</th>\n",
       "      <td>3</td>\n",
       "      <td>0</td>\n",
       "    </tr>\n",
       "    <tr>\n",
       "      <th>4</th>\n",
       "      <td>4</td>\n",
       "      <td>0</td>\n",
       "    </tr>\n",
       "  </tbody>\n",
       "</table>\n",
       "</div>"
      ],
      "text/plain": [
       "   click_id  is_attributed\n",
       "0         0              0\n",
       "1         1              0\n",
       "2         2              0\n",
       "3         3              0\n",
       "4         4              0"
      ]
     },
     "execution_count": 59,
     "metadata": {},
     "output_type": "execute_result"
    }
   ],
   "source": [
    "sample.head()"
   ]
  }
 ],
 "metadata": {
  "kernelspec": {
   "display_name": "Python 3",
   "language": "python",
   "name": "python3"
  },
  "language_info": {
   "codemirror_mode": {
    "name": "ipython",
    "version": 3
   },
   "file_extension": ".py",
   "mimetype": "text/x-python",
   "name": "python",
   "nbconvert_exporter": "python",
   "pygments_lexer": "ipython3",
   "version": "3.7.12"
  },
  "papermill": {
   "default_parameters": {},
   "duration": 309.841498,
   "end_time": "2022-03-02T16:11:00.341879",
   "environment_variables": {},
   "exception": null,
   "input_path": "__notebook__.ipynb",
   "output_path": "__notebook__.ipynb",
   "parameters": {},
   "start_time": "2022-03-02T16:05:50.500381",
   "version": "2.3.3"
  }
 },
 "nbformat": 4,
 "nbformat_minor": 5
}
